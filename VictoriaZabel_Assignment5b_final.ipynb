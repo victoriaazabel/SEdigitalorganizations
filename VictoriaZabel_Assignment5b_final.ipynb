{
  "nbformat": 4,
  "nbformat_minor": 0,
  "metadata": {
    "colab": {
      "provenance": [],
      "authorship_tag": "ABX9TyNK2S2oCFzMECuNAB8a8SlN",
      "include_colab_link": true
    },
    "kernelspec": {
      "name": "python3",
      "display_name": "Python 3"
    },
    "language_info": {
      "name": "python"
    },
    "widgets": {
      "application/vnd.jupyter.widget-state+json": {
        "d9248aacebfa4f0f8fda43e876a75e9a": {
          "model_module": "@jupyter-widgets/controls",
          "model_name": "HBoxModel",
          "model_module_version": "1.5.0",
          "state": {
            "_dom_classes": [],
            "_model_module": "@jupyter-widgets/controls",
            "_model_module_version": "1.5.0",
            "_model_name": "HBoxModel",
            "_view_count": null,
            "_view_module": "@jupyter-widgets/controls",
            "_view_module_version": "1.5.0",
            "_view_name": "HBoxView",
            "box_style": "",
            "children": [
              "IPY_MODEL_739241c1f5234068a5eb51f541c99604",
              "IPY_MODEL_90d4d7ca138a438aa2e82a9c871e2509",
              "IPY_MODEL_5d428dcce9a84f6c9657bd03cd425d32"
            ],
            "layout": "IPY_MODEL_1f8f695bb43a46b898c58bd06ec93ae7"
          }
        },
        "739241c1f5234068a5eb51f541c99604": {
          "model_module": "@jupyter-widgets/controls",
          "model_name": "HTMLModel",
          "model_module_version": "1.5.0",
          "state": {
            "_dom_classes": [],
            "_model_module": "@jupyter-widgets/controls",
            "_model_module_version": "1.5.0",
            "_model_name": "HTMLModel",
            "_view_count": null,
            "_view_module": "@jupyter-widgets/controls",
            "_view_module_version": "1.5.0",
            "_view_name": "HTMLView",
            "description": "",
            "description_tooltip": null,
            "layout": "IPY_MODEL_6b1825c0ffce4d3dad1f96e2c51f6f69",
            "placeholder": "​",
            "style": "IPY_MODEL_850335b326ef47a2b94d5f39a1c820eb",
            "value": "Map: 100%"
          }
        },
        "90d4d7ca138a438aa2e82a9c871e2509": {
          "model_module": "@jupyter-widgets/controls",
          "model_name": "FloatProgressModel",
          "model_module_version": "1.5.0",
          "state": {
            "_dom_classes": [],
            "_model_module": "@jupyter-widgets/controls",
            "_model_module_version": "1.5.0",
            "_model_name": "FloatProgressModel",
            "_view_count": null,
            "_view_module": "@jupyter-widgets/controls",
            "_view_module_version": "1.5.0",
            "_view_name": "ProgressView",
            "bar_style": "",
            "description": "",
            "description_tooltip": null,
            "layout": "IPY_MODEL_618b7a04aa864555ac90e0fee3cbe053",
            "max": 2203,
            "min": 0,
            "orientation": "horizontal",
            "style": "IPY_MODEL_551a806b54bb469697391877723c128e",
            "value": 2203
          }
        },
        "5d428dcce9a84f6c9657bd03cd425d32": {
          "model_module": "@jupyter-widgets/controls",
          "model_name": "HTMLModel",
          "model_module_version": "1.5.0",
          "state": {
            "_dom_classes": [],
            "_model_module": "@jupyter-widgets/controls",
            "_model_module_version": "1.5.0",
            "_model_name": "HTMLModel",
            "_view_count": null,
            "_view_module": "@jupyter-widgets/controls",
            "_view_module_version": "1.5.0",
            "_view_name": "HTMLView",
            "description": "",
            "description_tooltip": null,
            "layout": "IPY_MODEL_a9ce5ce257f74c95927fdea7cb9640bc",
            "placeholder": "​",
            "style": "IPY_MODEL_742104a1ccc64dedb1ecab3d4158d942",
            "value": " 2203/2203 [00:03&lt;00:00, 667.08 examples/s]"
          }
        },
        "1f8f695bb43a46b898c58bd06ec93ae7": {
          "model_module": "@jupyter-widgets/base",
          "model_name": "LayoutModel",
          "model_module_version": "1.2.0",
          "state": {
            "_model_module": "@jupyter-widgets/base",
            "_model_module_version": "1.2.0",
            "_model_name": "LayoutModel",
            "_view_count": null,
            "_view_module": "@jupyter-widgets/base",
            "_view_module_version": "1.2.0",
            "_view_name": "LayoutView",
            "align_content": null,
            "align_items": null,
            "align_self": null,
            "border": null,
            "bottom": null,
            "display": null,
            "flex": null,
            "flex_flow": null,
            "grid_area": null,
            "grid_auto_columns": null,
            "grid_auto_flow": null,
            "grid_auto_rows": null,
            "grid_column": null,
            "grid_gap": null,
            "grid_row": null,
            "grid_template_areas": null,
            "grid_template_columns": null,
            "grid_template_rows": null,
            "height": null,
            "justify_content": null,
            "justify_items": null,
            "left": null,
            "margin": null,
            "max_height": null,
            "max_width": null,
            "min_height": null,
            "min_width": null,
            "object_fit": null,
            "object_position": null,
            "order": null,
            "overflow": null,
            "overflow_x": null,
            "overflow_y": null,
            "padding": null,
            "right": null,
            "top": null,
            "visibility": "hidden",
            "width": null
          }
        },
        "6b1825c0ffce4d3dad1f96e2c51f6f69": {
          "model_module": "@jupyter-widgets/base",
          "model_name": "LayoutModel",
          "model_module_version": "1.2.0",
          "state": {
            "_model_module": "@jupyter-widgets/base",
            "_model_module_version": "1.2.0",
            "_model_name": "LayoutModel",
            "_view_count": null,
            "_view_module": "@jupyter-widgets/base",
            "_view_module_version": "1.2.0",
            "_view_name": "LayoutView",
            "align_content": null,
            "align_items": null,
            "align_self": null,
            "border": null,
            "bottom": null,
            "display": null,
            "flex": null,
            "flex_flow": null,
            "grid_area": null,
            "grid_auto_columns": null,
            "grid_auto_flow": null,
            "grid_auto_rows": null,
            "grid_column": null,
            "grid_gap": null,
            "grid_row": null,
            "grid_template_areas": null,
            "grid_template_columns": null,
            "grid_template_rows": null,
            "height": null,
            "justify_content": null,
            "justify_items": null,
            "left": null,
            "margin": null,
            "max_height": null,
            "max_width": null,
            "min_height": null,
            "min_width": null,
            "object_fit": null,
            "object_position": null,
            "order": null,
            "overflow": null,
            "overflow_x": null,
            "overflow_y": null,
            "padding": null,
            "right": null,
            "top": null,
            "visibility": null,
            "width": null
          }
        },
        "850335b326ef47a2b94d5f39a1c820eb": {
          "model_module": "@jupyter-widgets/controls",
          "model_name": "DescriptionStyleModel",
          "model_module_version": "1.5.0",
          "state": {
            "_model_module": "@jupyter-widgets/controls",
            "_model_module_version": "1.5.0",
            "_model_name": "DescriptionStyleModel",
            "_view_count": null,
            "_view_module": "@jupyter-widgets/base",
            "_view_module_version": "1.2.0",
            "_view_name": "StyleView",
            "description_width": ""
          }
        },
        "618b7a04aa864555ac90e0fee3cbe053": {
          "model_module": "@jupyter-widgets/base",
          "model_name": "LayoutModel",
          "model_module_version": "1.2.0",
          "state": {
            "_model_module": "@jupyter-widgets/base",
            "_model_module_version": "1.2.0",
            "_model_name": "LayoutModel",
            "_view_count": null,
            "_view_module": "@jupyter-widgets/base",
            "_view_module_version": "1.2.0",
            "_view_name": "LayoutView",
            "align_content": null,
            "align_items": null,
            "align_self": null,
            "border": null,
            "bottom": null,
            "display": null,
            "flex": null,
            "flex_flow": null,
            "grid_area": null,
            "grid_auto_columns": null,
            "grid_auto_flow": null,
            "grid_auto_rows": null,
            "grid_column": null,
            "grid_gap": null,
            "grid_row": null,
            "grid_template_areas": null,
            "grid_template_columns": null,
            "grid_template_rows": null,
            "height": null,
            "justify_content": null,
            "justify_items": null,
            "left": null,
            "margin": null,
            "max_height": null,
            "max_width": null,
            "min_height": null,
            "min_width": null,
            "object_fit": null,
            "object_position": null,
            "order": null,
            "overflow": null,
            "overflow_x": null,
            "overflow_y": null,
            "padding": null,
            "right": null,
            "top": null,
            "visibility": null,
            "width": null
          }
        },
        "551a806b54bb469697391877723c128e": {
          "model_module": "@jupyter-widgets/controls",
          "model_name": "ProgressStyleModel",
          "model_module_version": "1.5.0",
          "state": {
            "_model_module": "@jupyter-widgets/controls",
            "_model_module_version": "1.5.0",
            "_model_name": "ProgressStyleModel",
            "_view_count": null,
            "_view_module": "@jupyter-widgets/base",
            "_view_module_version": "1.2.0",
            "_view_name": "StyleView",
            "bar_color": null,
            "description_width": ""
          }
        },
        "a9ce5ce257f74c95927fdea7cb9640bc": {
          "model_module": "@jupyter-widgets/base",
          "model_name": "LayoutModel",
          "model_module_version": "1.2.0",
          "state": {
            "_model_module": "@jupyter-widgets/base",
            "_model_module_version": "1.2.0",
            "_model_name": "LayoutModel",
            "_view_count": null,
            "_view_module": "@jupyter-widgets/base",
            "_view_module_version": "1.2.0",
            "_view_name": "LayoutView",
            "align_content": null,
            "align_items": null,
            "align_self": null,
            "border": null,
            "bottom": null,
            "display": null,
            "flex": null,
            "flex_flow": null,
            "grid_area": null,
            "grid_auto_columns": null,
            "grid_auto_flow": null,
            "grid_auto_rows": null,
            "grid_column": null,
            "grid_gap": null,
            "grid_row": null,
            "grid_template_areas": null,
            "grid_template_columns": null,
            "grid_template_rows": null,
            "height": null,
            "justify_content": null,
            "justify_items": null,
            "left": null,
            "margin": null,
            "max_height": null,
            "max_width": null,
            "min_height": null,
            "min_width": null,
            "object_fit": null,
            "object_position": null,
            "order": null,
            "overflow": null,
            "overflow_x": null,
            "overflow_y": null,
            "padding": null,
            "right": null,
            "top": null,
            "visibility": null,
            "width": null
          }
        },
        "742104a1ccc64dedb1ecab3d4158d942": {
          "model_module": "@jupyter-widgets/controls",
          "model_name": "DescriptionStyleModel",
          "model_module_version": "1.5.0",
          "state": {
            "_model_module": "@jupyter-widgets/controls",
            "_model_module_version": "1.5.0",
            "_model_name": "DescriptionStyleModel",
            "_view_count": null,
            "_view_module": "@jupyter-widgets/base",
            "_view_module_version": "1.2.0",
            "_view_name": "StyleView",
            "description_width": ""
          }
        },
        "98c1efeb5a7f47018718b0a433aa99e1": {
          "model_module": "@jupyter-widgets/controls",
          "model_name": "HBoxModel",
          "model_module_version": "1.5.0",
          "state": {
            "_dom_classes": [],
            "_model_module": "@jupyter-widgets/controls",
            "_model_module_version": "1.5.0",
            "_model_name": "HBoxModel",
            "_view_count": null,
            "_view_module": "@jupyter-widgets/controls",
            "_view_module_version": "1.5.0",
            "_view_name": "HBoxView",
            "box_style": "",
            "children": [
              "IPY_MODEL_d7e895b8286144c1961330fd0c3477f3",
              "IPY_MODEL_d1163c041f2541418e8b5247d3c87217",
              "IPY_MODEL_599109fb317b4ee4a173bdd5379858d3"
            ],
            "layout": "IPY_MODEL_870aaa80fa0e482ead02713451d29a5b"
          }
        },
        "d7e895b8286144c1961330fd0c3477f3": {
          "model_module": "@jupyter-widgets/controls",
          "model_name": "HTMLModel",
          "model_module_version": "1.5.0",
          "state": {
            "_dom_classes": [],
            "_model_module": "@jupyter-widgets/controls",
            "_model_module_version": "1.5.0",
            "_model_name": "HTMLModel",
            "_view_count": null,
            "_view_module": "@jupyter-widgets/controls",
            "_view_module_version": "1.5.0",
            "_view_name": "HTMLView",
            "description": "",
            "description_tooltip": null,
            "layout": "IPY_MODEL_2662eb3bb9b74ede9f4b3d6cc49262ef",
            "placeholder": "​",
            "style": "IPY_MODEL_3cdf5f62501d4083b7f0521bfd7f1e59",
            "value": "Map: 100%"
          }
        },
        "d1163c041f2541418e8b5247d3c87217": {
          "model_module": "@jupyter-widgets/controls",
          "model_name": "FloatProgressModel",
          "model_module_version": "1.5.0",
          "state": {
            "_dom_classes": [],
            "_model_module": "@jupyter-widgets/controls",
            "_model_module_version": "1.5.0",
            "_model_name": "FloatProgressModel",
            "_view_count": null,
            "_view_module": "@jupyter-widgets/controls",
            "_view_module_version": "1.5.0",
            "_view_name": "ProgressView",
            "bar_style": "",
            "description": "",
            "description_tooltip": null,
            "layout": "IPY_MODEL_8d207c1655d5436fb5b957e214131fe5",
            "max": 116,
            "min": 0,
            "orientation": "horizontal",
            "style": "IPY_MODEL_359b43e7456b4ddcadd26a3a95257d0f",
            "value": 116
          }
        },
        "599109fb317b4ee4a173bdd5379858d3": {
          "model_module": "@jupyter-widgets/controls",
          "model_name": "HTMLModel",
          "model_module_version": "1.5.0",
          "state": {
            "_dom_classes": [],
            "_model_module": "@jupyter-widgets/controls",
            "_model_module_version": "1.5.0",
            "_model_name": "HTMLModel",
            "_view_count": null,
            "_view_module": "@jupyter-widgets/controls",
            "_view_module_version": "1.5.0",
            "_view_name": "HTMLView",
            "description": "",
            "description_tooltip": null,
            "layout": "IPY_MODEL_1c1df34a577d46deae0ec40b5811683f",
            "placeholder": "​",
            "style": "IPY_MODEL_5e24b2667dce4cf9b3c4cdda7a45aab5",
            "value": " 116/116 [00:00&lt;00:00, 595.41 examples/s]"
          }
        },
        "870aaa80fa0e482ead02713451d29a5b": {
          "model_module": "@jupyter-widgets/base",
          "model_name": "LayoutModel",
          "model_module_version": "1.2.0",
          "state": {
            "_model_module": "@jupyter-widgets/base",
            "_model_module_version": "1.2.0",
            "_model_name": "LayoutModel",
            "_view_count": null,
            "_view_module": "@jupyter-widgets/base",
            "_view_module_version": "1.2.0",
            "_view_name": "LayoutView",
            "align_content": null,
            "align_items": null,
            "align_self": null,
            "border": null,
            "bottom": null,
            "display": null,
            "flex": null,
            "flex_flow": null,
            "grid_area": null,
            "grid_auto_columns": null,
            "grid_auto_flow": null,
            "grid_auto_rows": null,
            "grid_column": null,
            "grid_gap": null,
            "grid_row": null,
            "grid_template_areas": null,
            "grid_template_columns": null,
            "grid_template_rows": null,
            "height": null,
            "justify_content": null,
            "justify_items": null,
            "left": null,
            "margin": null,
            "max_height": null,
            "max_width": null,
            "min_height": null,
            "min_width": null,
            "object_fit": null,
            "object_position": null,
            "order": null,
            "overflow": null,
            "overflow_x": null,
            "overflow_y": null,
            "padding": null,
            "right": null,
            "top": null,
            "visibility": "hidden",
            "width": null
          }
        },
        "2662eb3bb9b74ede9f4b3d6cc49262ef": {
          "model_module": "@jupyter-widgets/base",
          "model_name": "LayoutModel",
          "model_module_version": "1.2.0",
          "state": {
            "_model_module": "@jupyter-widgets/base",
            "_model_module_version": "1.2.0",
            "_model_name": "LayoutModel",
            "_view_count": null,
            "_view_module": "@jupyter-widgets/base",
            "_view_module_version": "1.2.0",
            "_view_name": "LayoutView",
            "align_content": null,
            "align_items": null,
            "align_self": null,
            "border": null,
            "bottom": null,
            "display": null,
            "flex": null,
            "flex_flow": null,
            "grid_area": null,
            "grid_auto_columns": null,
            "grid_auto_flow": null,
            "grid_auto_rows": null,
            "grid_column": null,
            "grid_gap": null,
            "grid_row": null,
            "grid_template_areas": null,
            "grid_template_columns": null,
            "grid_template_rows": null,
            "height": null,
            "justify_content": null,
            "justify_items": null,
            "left": null,
            "margin": null,
            "max_height": null,
            "max_width": null,
            "min_height": null,
            "min_width": null,
            "object_fit": null,
            "object_position": null,
            "order": null,
            "overflow": null,
            "overflow_x": null,
            "overflow_y": null,
            "padding": null,
            "right": null,
            "top": null,
            "visibility": null,
            "width": null
          }
        },
        "3cdf5f62501d4083b7f0521bfd7f1e59": {
          "model_module": "@jupyter-widgets/controls",
          "model_name": "DescriptionStyleModel",
          "model_module_version": "1.5.0",
          "state": {
            "_model_module": "@jupyter-widgets/controls",
            "_model_module_version": "1.5.0",
            "_model_name": "DescriptionStyleModel",
            "_view_count": null,
            "_view_module": "@jupyter-widgets/base",
            "_view_module_version": "1.2.0",
            "_view_name": "StyleView",
            "description_width": ""
          }
        },
        "8d207c1655d5436fb5b957e214131fe5": {
          "model_module": "@jupyter-widgets/base",
          "model_name": "LayoutModel",
          "model_module_version": "1.2.0",
          "state": {
            "_model_module": "@jupyter-widgets/base",
            "_model_module_version": "1.2.0",
            "_model_name": "LayoutModel",
            "_view_count": null,
            "_view_module": "@jupyter-widgets/base",
            "_view_module_version": "1.2.0",
            "_view_name": "LayoutView",
            "align_content": null,
            "align_items": null,
            "align_self": null,
            "border": null,
            "bottom": null,
            "display": null,
            "flex": null,
            "flex_flow": null,
            "grid_area": null,
            "grid_auto_columns": null,
            "grid_auto_flow": null,
            "grid_auto_rows": null,
            "grid_column": null,
            "grid_gap": null,
            "grid_row": null,
            "grid_template_areas": null,
            "grid_template_columns": null,
            "grid_template_rows": null,
            "height": null,
            "justify_content": null,
            "justify_items": null,
            "left": null,
            "margin": null,
            "max_height": null,
            "max_width": null,
            "min_height": null,
            "min_width": null,
            "object_fit": null,
            "object_position": null,
            "order": null,
            "overflow": null,
            "overflow_x": null,
            "overflow_y": null,
            "padding": null,
            "right": null,
            "top": null,
            "visibility": null,
            "width": null
          }
        },
        "359b43e7456b4ddcadd26a3a95257d0f": {
          "model_module": "@jupyter-widgets/controls",
          "model_name": "ProgressStyleModel",
          "model_module_version": "1.5.0",
          "state": {
            "_model_module": "@jupyter-widgets/controls",
            "_model_module_version": "1.5.0",
            "_model_name": "ProgressStyleModel",
            "_view_count": null,
            "_view_module": "@jupyter-widgets/base",
            "_view_module_version": "1.2.0",
            "_view_name": "StyleView",
            "bar_color": null,
            "description_width": ""
          }
        },
        "1c1df34a577d46deae0ec40b5811683f": {
          "model_module": "@jupyter-widgets/base",
          "model_name": "LayoutModel",
          "model_module_version": "1.2.0",
          "state": {
            "_model_module": "@jupyter-widgets/base",
            "_model_module_version": "1.2.0",
            "_model_name": "LayoutModel",
            "_view_count": null,
            "_view_module": "@jupyter-widgets/base",
            "_view_module_version": "1.2.0",
            "_view_name": "LayoutView",
            "align_content": null,
            "align_items": null,
            "align_self": null,
            "border": null,
            "bottom": null,
            "display": null,
            "flex": null,
            "flex_flow": null,
            "grid_area": null,
            "grid_auto_columns": null,
            "grid_auto_flow": null,
            "grid_auto_rows": null,
            "grid_column": null,
            "grid_gap": null,
            "grid_row": null,
            "grid_template_areas": null,
            "grid_template_columns": null,
            "grid_template_rows": null,
            "height": null,
            "justify_content": null,
            "justify_items": null,
            "left": null,
            "margin": null,
            "max_height": null,
            "max_width": null,
            "min_height": null,
            "min_width": null,
            "object_fit": null,
            "object_position": null,
            "order": null,
            "overflow": null,
            "overflow_x": null,
            "overflow_y": null,
            "padding": null,
            "right": null,
            "top": null,
            "visibility": null,
            "width": null
          }
        },
        "5e24b2667dce4cf9b3c4cdda7a45aab5": {
          "model_module": "@jupyter-widgets/controls",
          "model_name": "DescriptionStyleModel",
          "model_module_version": "1.5.0",
          "state": {
            "_model_module": "@jupyter-widgets/controls",
            "_model_module_version": "1.5.0",
            "_model_name": "DescriptionStyleModel",
            "_view_count": null,
            "_view_module": "@jupyter-widgets/base",
            "_view_module_version": "1.2.0",
            "_view_name": "StyleView",
            "description_width": ""
          }
        }
      }
    },
    "gpuClass": "standard"
  },
  "cells": [
    {
      "cell_type": "markdown",
      "metadata": {
        "id": "view-in-github",
        "colab_type": "text"
      },
      "source": [
        "<a href=\"https://colab.research.google.com/github/victoriaazabel/SEdigitalorganizations/blob/main/VictoriaZabel_Assignment5b_final.ipynb\" target=\"_parent\"><img src=\"https://colab.research.google.com/assets/colab-badge.svg\" alt=\"Open In Colab\"/></a>"
      ]
    },
    {
      "cell_type": "markdown",
      "source": [
        "# Test: Homework 5 but all in one"
      ],
      "metadata": {
        "id": "m9BjbUVB0JiA"
      }
    },
    {
      "cell_type": "code",
      "source": [
        "\n",
        "import pandas as pd\n",
        "import numpy as np\n",
        "import matplotlib.pyplot as plt\n",
        "from google.colab import drive\n",
        "from google.colab import data_table\n",
        "from sklearn.model_selection import train_test_split\n",
        "import glob\n",
        "import os\n",
        "data_table.enable_dataframe_formatter()\n",
        "\n",
        "\n",
        "drive.mount('/content/drive')\n",
        "directory = '/content/drive/My Drive/'\n",
        "  \n",
        "# merging the files\n",
        "joined_files = os.path.join('/content/drive/MyDrive/', \"*.csv\")\n",
        "  \n",
        "# A list of all joined files is returned\n",
        "joined_list = glob.glob(joined_files)\n",
        "  \n",
        "# Finally, the files are joined\n",
        "all_data_1 = pd.concat(map(pd.read_csv, joined_list), ignore_index=True)\n",
        "\n",
        "#only gives me medi??\n",
        "\n",
        "\n"
      ],
      "metadata": {
        "id": "dJdtxcE-0QBw"
      },
      "execution_count": null,
      "outputs": []
    },
    {
      "cell_type": "code",
      "source": [
        "#all_data_1"
      ],
      "metadata": {
        "id": "jGEX7_FxKRE0"
      },
      "execution_count": null,
      "outputs": []
    },
    {
      "cell_type": "code",
      "source": [
        "# try again\n",
        "import os\n",
        "import pandas as pd\n",
        "\n",
        "path = \"/content/drive/MyDrive/\"\n",
        "files = [file for file in os.listdir(path) if file.endswith(\".csv\")]\n",
        "\n",
        "all_table = pd.DataFrame(columns =['Title','Abstract','Index Keywords','Research Field'])\n",
        "\n",
        "for file in files:\n",
        "    #try to assign research field name\n",
        "    research_field = file.rsplit(\"_\", maxsplit=1)[0]\n",
        "    all_data = pd.read_csv(os.path.join(path, file))\n",
        "    all_data = all_data.filter(['Index Keywords', 'Title', 'Abstract'])\n",
        "    all_data['Research Field'] = research_field\n",
        "    all_table = pd.concat([all_table, all_data])\n",
        "\n",
        "all_table.head(10)"
      ],
      "metadata": {
        "id": "qNVy1l9nsd-Z"
      },
      "execution_count": null,
      "outputs": []
    },
    {
      "cell_type": "code",
      "source": [
        "#load the dataset once again so you can work with it in the correct format\n",
        "# string to int so that the research fields 1-26 can be used as labels from datasets \n",
        "#import load_dataset\n",
        "import pandas as pd\n",
        "from sklearn.preprocessing import LabelEncoder\n",
        "\n",
        "#dataset5 = load_dataset(\"all_table\")\n",
        "\n",
        "# create dictionaries for training and conversion\n",
        "id_label = {0: \"AGRI\", 1: \"ARTS\", 2: \"BIOC\", 3: \"BUSI\", 4: \"CENG\", 5: \"CHEM\", 6: \"COMP\", 7: \"DECI\", 8: \"DENT\", 9: \"EART\", 10: \"ECON\", 11: \"ENER\", 12: \"ENGI\", 13: \"ENVI\", 14: \"HEAL\", 15: \"IMMU\", 16: \"MATE\", 17: \"MATH\", 18: \"MEDI\", 19: \"NEUR\", 20: \"NURS\", 21: \"PHAR\", 22: \"PHYS\", 23: \"PSYC\", 24: \"SOCI\", 25: \"VETE\"}\n",
        "label_id = {\"AGRI\": 0, \"ARTS\": 1, \"BIOC\": 2, \"BUSI\": 3, \"CENG\": 4, \"CHEM\": 5, \"COMP\": 6, \"DECI\": 7, \"DENT\": 8, \"EART\": 9, \"ECON\": 10, \"ENER\": 11, \"ENGI\": 12, \"ENVI\": 13, \"HEAL\": 14, \"IMMU\": 15, \"MATE\":16, \"MATH\": 17, \"MEDI\": 18, \"NEUR\": 19, \"NURS\": 20, \"PHAR\": 21, \"PHYS\": 22, \"PSYC\": 23, \"SOCI\": 24, \"VETE\": 25}\n",
        "\n",
        "# convert str to int again\n",
        "all_table['Research Field'] = all_table['Research Field'].replace(label_id)\n",
        "\n",
        "all_table.head(10)"
      ],
      "metadata": {
        "id": "ncXFvXRxArF3"
      },
      "execution_count": null,
      "outputs": []
    },
    {
      "cell_type": "code",
      "source": [
        "#split test and train datasets, stratify search?\n",
        "\n",
        "#train_set, test_set = train_test_split(all_table, test_size = 0.05,  random_state = 42)"
      ],
      "metadata": {
        "id": "HpwQ6PtYy4ir"
      },
      "execution_count": null,
      "outputs": []
    },
    {
      "cell_type": "code",
      "source": [
        "train_set, test_set = train_test_split(all_table,test_size = 0.05, stratify = all_table['Research Field'], random_state=42)\n",
        "\n",
        "test_set.head(10)\n"
      ],
      "metadata": {
        "id": "x3ZnBEdFl90P"
      },
      "execution_count": null,
      "outputs": []
    },
    {
      "cell_type": "code",
      "source": [
        "# Training using the link to hugging face / text classification\n",
        "\n",
        "!pip install transformers datasets evaluate\n",
        "\n",
        "from huggingface_hub import notebook_login\n",
        "\n",
        "notebook_login()"
      ],
      "metadata": {
        "id": "fSR2S0IiTH0Q"
      },
      "execution_count": null,
      "outputs": []
    },
    {
      "cell_type": "code",
      "source": [
        "all_table['Research Field'][4]"
      ],
      "metadata": {
        "id": "t22XYGgQCRlw"
      },
      "execution_count": null,
      "outputs": []
    },
    {
      "cell_type": "code",
      "source": [
        "train_set, test_set = train_test_split(all_table,test_size = 0.05, stratify = all_table['Research Field'], random_state=42)\n",
        "\n",
        "train_set['label'] = train_set['Research Field']"
      ],
      "metadata": {
        "id": "j6oD40oqCywt"
      },
      "execution_count": null,
      "outputs": []
    },
    {
      "cell_type": "code",
      "source": [
        "train_set['label'].head(10)"
      ],
      "metadata": {
        "id": "7jQFivZMDE53"
      },
      "execution_count": null,
      "outputs": []
    },
    {
      "cell_type": "code",
      "source": [
        "from transformers import AutoTokenizer\n",
        "\n",
        "tokenizer = AutoTokenizer.from_pretrained(\"distilbert-base-uncased\")"
      ],
      "metadata": {
        "id": "-VUpLv01DKAO"
      },
      "execution_count": null,
      "outputs": []
    },
    {
      "cell_type": "code",
      "source": [
        "def preprocess_function(examples):\n",
        "    return tokenizer(examples['Abstract'], truncation = True)"
      ],
      "metadata": {
        "id": "o6oBt_hoDYs3"
      },
      "execution_count": null,
      "outputs": []
    },
    {
      "cell_type": "code",
      "source": [
        "# 0.015 instead of the 0.05 that we should've had because it just doesn't work, takes days and crashes\n",
        "train_mini = train_set.sample(frac = 0.015)\n",
        "test_mini = test_set.sample(frac = 0.015)"
      ],
      "metadata": {
        "id": "PIl_OJfzET3k"
      },
      "execution_count": null,
      "outputs": []
    },
    {
      "cell_type": "code",
      "source": [
        "# create datasets of dataframes for .map \n",
        "\n",
        "from datasets import Dataset\n",
        "train_min = Dataset.from_pandas(train_mini)\n",
        "test_min = Dataset.from_pandas(test_mini)"
      ],
      "metadata": {
        "id": "5_POogpBEtmK"
      },
      "execution_count": null,
      "outputs": []
    },
    {
      "cell_type": "code",
      "source": [
        "tokenized_trainset = train_min.map(preprocess_function, batched = True)\n",
        "tokenized_testset = test_min.map(preprocess_function, batched = True)"
      ],
      "metadata": {
        "colab": {
          "base_uri": "https://localhost:8080/",
          "height": 17,
          "referenced_widgets": [
            "d9248aacebfa4f0f8fda43e876a75e9a",
            "739241c1f5234068a5eb51f541c99604",
            "90d4d7ca138a438aa2e82a9c871e2509",
            "5d428dcce9a84f6c9657bd03cd425d32",
            "1f8f695bb43a46b898c58bd06ec93ae7",
            "6b1825c0ffce4d3dad1f96e2c51f6f69",
            "850335b326ef47a2b94d5f39a1c820eb",
            "618b7a04aa864555ac90e0fee3cbe053",
            "551a806b54bb469697391877723c128e",
            "a9ce5ce257f74c95927fdea7cb9640bc",
            "742104a1ccc64dedb1ecab3d4158d942",
            "98c1efeb5a7f47018718b0a433aa99e1",
            "d7e895b8286144c1961330fd0c3477f3",
            "d1163c041f2541418e8b5247d3c87217",
            "599109fb317b4ee4a173bdd5379858d3",
            "870aaa80fa0e482ead02713451d29a5b",
            "2662eb3bb9b74ede9f4b3d6cc49262ef",
            "3cdf5f62501d4083b7f0521bfd7f1e59",
            "8d207c1655d5436fb5b957e214131fe5",
            "359b43e7456b4ddcadd26a3a95257d0f",
            "1c1df34a577d46deae0ec40b5811683f",
            "5e24b2667dce4cf9b3c4cdda7a45aab5"
          ]
        },
        "id": "2dopZNu_DxOX",
        "outputId": "54de41f7-d9d3-4bbc-a817-f916693b3cc0"
      },
      "execution_count": null,
      "outputs": [
        {
          "output_type": "display_data",
          "data": {
            "text/plain": [
              "Map:   0%|          | 0/2203 [00:00<?, ? examples/s]"
            ],
            "application/vnd.jupyter.widget-view+json": {
              "version_major": 2,
              "version_minor": 0,
              "model_id": "d9248aacebfa4f0f8fda43e876a75e9a"
            }
          },
          "metadata": {}
        },
        {
          "output_type": "display_data",
          "data": {
            "text/plain": [
              "Map:   0%|          | 0/116 [00:00<?, ? examples/s]"
            ],
            "application/vnd.jupyter.widget-view+json": {
              "version_major": 2,
              "version_minor": 0,
              "model_id": "98c1efeb5a7f47018718b0a433aa99e1"
            }
          },
          "metadata": {}
        }
      ]
    },
    {
      "cell_type": "code",
      "source": [
        "from transformers import DataCollatorWithPadding\n",
        "\n",
        "data_collator = DataCollatorWithPadding(tokenizer = tokenizer)"
      ],
      "metadata": {
        "id": "m9vFR-g8FS7D"
      },
      "execution_count": null,
      "outputs": []
    },
    {
      "cell_type": "code",
      "source": [
        "# Now we're getting to the actual training and accuracy\n",
        "\n",
        "import evaluate\n",
        "\n",
        "accuracy = evaluate.load(\"accuracy\")"
      ],
      "metadata": {
        "id": "LDaIFC-TFi1g"
      },
      "execution_count": null,
      "outputs": []
    },
    {
      "cell_type": "code",
      "source": [
        "import numpy as np\n",
        "\n",
        "\n",
        "def compute_metrics(eval_pred):\n",
        "    predictions, labels = eval_pred\n",
        "    predictions = np.argmax(predictions, axis = 1)\n",
        "    return accuracy.compute(predictions = predictions, references = labels)"
      ],
      "metadata": {
        "id": "PdRHEj92Fy_0"
      },
      "execution_count": null,
      "outputs": []
    },
    {
      "cell_type": "code",
      "source": [
        "from transformers import AutoModelForSequenceClassification, TrainingArguments, Trainer\n",
        "\n",
        "model = AutoModelForSequenceClassification.from_pretrained(\n",
        "    \"distilbert-base-uncased\", num_labels = 26, id2label = id_label, label2id = label_id\n",
        ")\n"
      ],
      "metadata": {
        "id": "0lbPKFmoF6gl"
      },
      "execution_count": null,
      "outputs": []
    },
    {
      "cell_type": "code",
      "source": [
        "#!pip install accelerate -U"
      ],
      "metadata": {
        "id": "W2Vim3GsHUXa"
      },
      "execution_count": null,
      "outputs": []
    },
    {
      "cell_type": "code",
      "source": [
        "#!pip uninstall -y transformers accelerate\n",
        "#!pip install accelerate -U"
      ],
      "metadata": {
        "id": "3kjejJnVHyV8"
      },
      "execution_count": null,
      "outputs": []
    },
    {
      "cell_type": "code",
      "source": [
        "# the actual model\n",
        "\n",
        "training_args = TrainingArguments(\n",
        "    output_dir = \"Research-Field-Classification-Model\",\n",
        "    learning_rate = 2e-5,\n",
        "    per_device_train_batch_size = 8,\n",
        "    per_device_eval_batch_size = 8,\n",
        "    num_train_epochs = 2,\n",
        "    weight_decay = 0.01,\n",
        "    evaluation_strategy = \"epoch\",\n",
        "    save_strategy = \"epoch\",\n",
        "    load_best_model_at_end = True,\n",
        "    push_to_hub = True,\n",
        ")\n",
        "\n",
        "trainer = Trainer(\n",
        "    model = model,\n",
        "    args = training_args,\n",
        "    train_dataset = tokenized_trainset,\n",
        "    eval_dataset = tokenized_testset,\n",
        "    tokenizer = tokenizer,\n",
        "    data_collator = data_collator,\n",
        "    compute_metrics = compute_metrics,\n",
        ")\n",
        "\n",
        "#trainer.train()"
      ],
      "metadata": {
        "id": "LAC6A_-tGvz4"
      },
      "execution_count": null,
      "outputs": []
    },
    {
      "cell_type": "code",
      "source": [
        "trainer.train()"
      ],
      "metadata": {
        "id": "sGPRqtayPan4"
      },
      "execution_count": null,
      "outputs": []
    }
  ]
}