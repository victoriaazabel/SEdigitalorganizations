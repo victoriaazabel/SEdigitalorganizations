{
  "metadata": {
    "kernelspec": {
      "language": "python",
      "display_name": "Python 3",
      "name": "python3"
    },
    "language_info": {
      "pygments_lexer": "ipython3",
      "nbconvert_exporter": "python",
      "version": "3.6.4",
      "file_extension": ".py",
      "codemirror_mode": {
        "name": "ipython",
        "version": 3
      },
      "name": "python",
      "mimetype": "text/x-python"
    },
    "colab": {
      "provenance": [],
      "include_colab_link": true
    }
  },
  "nbformat_minor": 0,
  "nbformat": 4,
  "cells": [
    {
      "cell_type": "markdown",
      "metadata": {
        "id": "view-in-github",
        "colab_type": "text"
      },
      "source": [
        "<a href=\"https://colab.research.google.com/github/victoriaazabel/SEdigitalorganizations/blob/main/VictoriaZabel_LearningPortfolio_7.ipynb\" target=\"_parent\"><img src=\"https://colab.research.google.com/assets/colab-badge.svg\" alt=\"Open In Colab\"/></a>"
      ]
    },
    {
      "cell_type": "markdown",
      "source": [
        "# Collaborative Filtering - Learning Portfolio 7\n",
        "\n",
        "This learning portfolio covers a movie recommendation topic and accordingly builds a recommmendation model. Concepts such as collaborative filtering, embedding, and dot products are explored here."
      ],
      "metadata": {
        "id": "XBKbu03Xpslz"
      }
    },
    {
      "cell_type": "code",
      "source": [
        "from fastai.collab import *\n",
        "from fastai.tabular.all import *\n",
        "set_seed(42)"
      ],
      "metadata": {
        "execution": {
          "iopub.status.busy": "2022-06-27T22:34:53.713771Z",
          "iopub.execute_input": "2022-06-27T22:34:53.714291Z",
          "iopub.status.idle": "2022-06-27T22:34:58.125346Z",
          "shell.execute_reply.started": "2022-06-27T22:34:53.714191Z",
          "shell.execute_reply": "2022-06-27T22:34:58.123923Z"
        },
        "trusted": true,
        "id": "c0oBPEDsRMjQ"
      },
      "execution_count": null,
      "outputs": []
    },
    {
      "cell_type": "code",
      "source": [
        "# downloading the datasetusing a fastai function\n",
        "\n",
        "path = untar_data(URLs.ML_100k)"
      ],
      "metadata": {
        "execution": {
          "iopub.status.busy": "2022-06-27T22:34:53.713771Z",
          "iopub.execute_input": "2022-06-27T22:34:53.714291Z",
          "iopub.status.idle": "2022-06-27T22:34:58.125346Z",
          "shell.execute_reply.started": "2022-06-27T22:34:53.714191Z",
          "shell.execute_reply": "2022-06-27T22:34:58.123923Z"
        },
        "trusted": true,
        "id": "k_nyZxKeRMjW"
      },
      "execution_count": null,
      "outputs": []
    },
    {
      "cell_type": "code",
      "source": [
        "# the main file has four columns, user, movie, ratingn, and timestamp. \n",
        "\n",
        "ratings = pd.read_csv(path/'u.data', delimiter='\\t', header=None,\n",
        "                      names=['user','movie','rating','timestamp'])\n",
        "ratings.head(6)"
      ],
      "metadata": {
        "execution": {
          "iopub.status.busy": "2022-06-27T22:34:58.13045Z",
          "iopub.execute_input": "2022-06-27T22:34:58.131806Z",
          "iopub.status.idle": "2022-06-27T22:34:58.221177Z",
          "shell.execute_reply.started": "2022-06-27T22:34:58.131756Z",
          "shell.execute_reply": "2022-06-27T22:34:58.219087Z"
        },
        "trusted": true,
        "colab": {
          "base_uri": "https://localhost:8080/",
          "height": 235
        },
        "id": "_mq-j3evRMjW",
        "outputId": "82a13fa4-37e1-4b65-ddbe-0ffee2207372"
      },
      "execution_count": null,
      "outputs": [
        {
          "output_type": "execute_result",
          "data": {
            "text/plain": [
              "   user  movie  rating  timestamp\n",
              "0   196    242       3  881250949\n",
              "1   186    302       3  891717742\n",
              "2    22    377       1  878887116\n",
              "3   244     51       2  880606923\n",
              "4   166    346       1  886397596\n",
              "5   298    474       4  884182806"
            ],
            "text/html": [
              "\n",
              "  <div id=\"df-9a13439c-749f-4a68-9f1e-1606eec2aaca\">\n",
              "    <div class=\"colab-df-container\">\n",
              "      <div>\n",
              "<style scoped>\n",
              "    .dataframe tbody tr th:only-of-type {\n",
              "        vertical-align: middle;\n",
              "    }\n",
              "\n",
              "    .dataframe tbody tr th {\n",
              "        vertical-align: top;\n",
              "    }\n",
              "\n",
              "    .dataframe thead th {\n",
              "        text-align: right;\n",
              "    }\n",
              "</style>\n",
              "<table border=\"1\" class=\"dataframe\">\n",
              "  <thead>\n",
              "    <tr style=\"text-align: right;\">\n",
              "      <th></th>\n",
              "      <th>user</th>\n",
              "      <th>movie</th>\n",
              "      <th>rating</th>\n",
              "      <th>timestamp</th>\n",
              "    </tr>\n",
              "  </thead>\n",
              "  <tbody>\n",
              "    <tr>\n",
              "      <th>0</th>\n",
              "      <td>196</td>\n",
              "      <td>242</td>\n",
              "      <td>3</td>\n",
              "      <td>881250949</td>\n",
              "    </tr>\n",
              "    <tr>\n",
              "      <th>1</th>\n",
              "      <td>186</td>\n",
              "      <td>302</td>\n",
              "      <td>3</td>\n",
              "      <td>891717742</td>\n",
              "    </tr>\n",
              "    <tr>\n",
              "      <th>2</th>\n",
              "      <td>22</td>\n",
              "      <td>377</td>\n",
              "      <td>1</td>\n",
              "      <td>878887116</td>\n",
              "    </tr>\n",
              "    <tr>\n",
              "      <th>3</th>\n",
              "      <td>244</td>\n",
              "      <td>51</td>\n",
              "      <td>2</td>\n",
              "      <td>880606923</td>\n",
              "    </tr>\n",
              "    <tr>\n",
              "      <th>4</th>\n",
              "      <td>166</td>\n",
              "      <td>346</td>\n",
              "      <td>1</td>\n",
              "      <td>886397596</td>\n",
              "    </tr>\n",
              "    <tr>\n",
              "      <th>5</th>\n",
              "      <td>298</td>\n",
              "      <td>474</td>\n",
              "      <td>4</td>\n",
              "      <td>884182806</td>\n",
              "    </tr>\n",
              "  </tbody>\n",
              "</table>\n",
              "</div>\n",
              "      <button class=\"colab-df-convert\" onclick=\"convertToInteractive('df-9a13439c-749f-4a68-9f1e-1606eec2aaca')\"\n",
              "              title=\"Convert this dataframe to an interactive table.\"\n",
              "              style=\"display:none;\">\n",
              "        \n",
              "  <svg xmlns=\"http://www.w3.org/2000/svg\" height=\"24px\"viewBox=\"0 0 24 24\"\n",
              "       width=\"24px\">\n",
              "    <path d=\"M0 0h24v24H0V0z\" fill=\"none\"/>\n",
              "    <path d=\"M18.56 5.44l.94 2.06.94-2.06 2.06-.94-2.06-.94-.94-2.06-.94 2.06-2.06.94zm-11 1L8.5 8.5l.94-2.06 2.06-.94-2.06-.94L8.5 2.5l-.94 2.06-2.06.94zm10 10l.94 2.06.94-2.06 2.06-.94-2.06-.94-.94-2.06-.94 2.06-2.06.94z\"/><path d=\"M17.41 7.96l-1.37-1.37c-.4-.4-.92-.59-1.43-.59-.52 0-1.04.2-1.43.59L10.3 9.45l-7.72 7.72c-.78.78-.78 2.05 0 2.83L4 21.41c.39.39.9.59 1.41.59.51 0 1.02-.2 1.41-.59l7.78-7.78 2.81-2.81c.8-.78.8-2.07 0-2.86zM5.41 20L4 18.59l7.72-7.72 1.47 1.35L5.41 20z\"/>\n",
              "  </svg>\n",
              "      </button>\n",
              "      \n",
              "  <style>\n",
              "    .colab-df-container {\n",
              "      display:flex;\n",
              "      flex-wrap:wrap;\n",
              "      gap: 12px;\n",
              "    }\n",
              "\n",
              "    .colab-df-convert {\n",
              "      background-color: #E8F0FE;\n",
              "      border: none;\n",
              "      border-radius: 50%;\n",
              "      cursor: pointer;\n",
              "      display: none;\n",
              "      fill: #1967D2;\n",
              "      height: 32px;\n",
              "      padding: 0 0 0 0;\n",
              "      width: 32px;\n",
              "    }\n",
              "\n",
              "    .colab-df-convert:hover {\n",
              "      background-color: #E2EBFA;\n",
              "      box-shadow: 0px 1px 2px rgba(60, 64, 67, 0.3), 0px 1px 3px 1px rgba(60, 64, 67, 0.15);\n",
              "      fill: #174EA6;\n",
              "    }\n",
              "\n",
              "    [theme=dark] .colab-df-convert {\n",
              "      background-color: #3B4455;\n",
              "      fill: #D2E3FC;\n",
              "    }\n",
              "\n",
              "    [theme=dark] .colab-df-convert:hover {\n",
              "      background-color: #434B5C;\n",
              "      box-shadow: 0px 1px 3px 1px rgba(0, 0, 0, 0.15);\n",
              "      filter: drop-shadow(0px 1px 2px rgba(0, 0, 0, 0.3));\n",
              "      fill: #FFFFFF;\n",
              "    }\n",
              "  </style>\n",
              "\n",
              "      <script>\n",
              "        const buttonEl =\n",
              "          document.querySelector('#df-9a13439c-749f-4a68-9f1e-1606eec2aaca button.colab-df-convert');\n",
              "        buttonEl.style.display =\n",
              "          google.colab.kernel.accessAllowed ? 'block' : 'none';\n",
              "\n",
              "        async function convertToInteractive(key) {\n",
              "          const element = document.querySelector('#df-9a13439c-749f-4a68-9f1e-1606eec2aaca');\n",
              "          const dataTable =\n",
              "            await google.colab.kernel.invokeFunction('convertToInteractive',\n",
              "                                                     [key], {});\n",
              "          if (!dataTable) return;\n",
              "\n",
              "          const docLinkHtml = 'Like what you see? Visit the ' +\n",
              "            '<a target=\"_blank\" href=https://colab.research.google.com/notebooks/data_table.ipynb>data table notebook</a>'\n",
              "            + ' to learn more about interactive tables.';\n",
              "          element.innerHTML = '';\n",
              "          dataTable['output_type'] = 'display_data';\n",
              "          await google.colab.output.renderOutput(dataTable, element);\n",
              "          const docLink = document.createElement('div');\n",
              "          docLink.innerHTML = docLinkHtml;\n",
              "          element.appendChild(docLink);\n",
              "        }\n",
              "      </script>\n",
              "    </div>\n",
              "  </div>\n",
              "  "
            ]
          },
          "metadata": {},
          "execution_count": 6
        }
      ]
    },
    {
      "cell_type": "code",
      "source": [
        "# taking popular movies.  the three categories for the numbers below are: sci fi, action, and old movies.\n",
        "# the 0.98 means the movie scores high (almost 1) on sci fi and action, and newer with a score of -0.9, basically -1\n",
        "last_skywalker = np.array([0.98,0.9,-0.9])"
      ],
      "metadata": {
        "execution": {
          "iopub.status.busy": "2022-06-27T22:34:58.225102Z",
          "iopub.execute_input": "2022-06-27T22:34:58.227736Z",
          "iopub.status.idle": "2022-06-27T22:34:58.239654Z",
          "shell.execute_reply.started": "2022-06-27T22:34:58.227659Z",
          "shell.execute_reply": "2022-06-27T22:34:58.237762Z"
        },
        "trusted": true,
        "id": "S7xmSDmfRMjY"
      },
      "execution_count": null,
      "outputs": []
    },
    {
      "cell_type": "code",
      "source": [
        "# random user rating\n",
        "user1 = np.array([0.9,0.8,-0.6])"
      ],
      "metadata": {
        "execution": {
          "iopub.status.busy": "2022-06-27T22:34:58.252991Z",
          "iopub.execute_input": "2022-06-27T22:34:58.253711Z",
          "iopub.status.idle": "2022-06-27T22:34:58.272044Z",
          "shell.execute_reply.started": "2022-06-27T22:34:58.253649Z",
          "shell.execute_reply": "2022-06-27T22:34:58.270228Z"
        },
        "trusted": true,
        "id": "cGz6nmIPRMjY"
      },
      "execution_count": null,
      "outputs": []
    },
    {
      "cell_type": "markdown",
      "source": [
        "and we can now calculate the match between this combination:"
      ],
      "metadata": {
        "id": "j0YfW822RMjZ"
      }
    },
    {
      "cell_type": "code",
      "source": [
        "# finding the match between this combination using a dot product\n",
        "(user1*last_skywalker).sum()"
      ],
      "metadata": {
        "execution": {
          "iopub.status.busy": "2022-06-27T22:34:58.275126Z",
          "iopub.execute_input": "2022-06-27T22:34:58.276203Z",
          "iopub.status.idle": "2022-06-27T22:34:58.286255Z",
          "shell.execute_reply.started": "2022-06-27T22:34:58.276144Z",
          "shell.execute_reply": "2022-06-27T22:34:58.284957Z"
        },
        "trusted": true,
        "colab": {
          "base_uri": "https://localhost:8080/"
        },
        "id": "SsB3IxxHRMjZ",
        "outputId": "c2e9c385-eac6-491e-b11b-66dc211d9514"
      },
      "execution_count": null,
      "outputs": [
        {
          "output_type": "execute_result",
          "data": {
            "text/plain": [
              "2.1420000000000003"
            ]
          },
          "metadata": {},
          "execution_count": 11
        }
      ]
    },
    {
      "cell_type": "code",
      "source": [
        "casablanca = np.array([-0.99,-0.3,0.8])"
      ],
      "metadata": {
        "execution": {
          "iopub.status.busy": "2022-06-27T22:34:58.288634Z",
          "iopub.execute_input": "2022-06-27T22:34:58.289675Z",
          "iopub.status.idle": "2022-06-27T22:34:58.300906Z",
          "shell.execute_reply.started": "2022-06-27T22:34:58.289616Z",
          "shell.execute_reply": "2022-06-27T22:34:58.299112Z"
        },
        "trusted": true,
        "id": "BRTjrJSyRMja"
      },
      "execution_count": null,
      "outputs": []
    },
    {
      "cell_type": "code",
      "source": [
        "# matching user 1 with casablanca\n",
        "(user1*casablanca).sum()"
      ],
      "metadata": {
        "execution": {
          "iopub.status.busy": "2022-06-27T22:34:58.303405Z",
          "iopub.execute_input": "2022-06-27T22:34:58.304716Z",
          "iopub.status.idle": "2022-06-27T22:34:58.316422Z",
          "shell.execute_reply.started": "2022-06-27T22:34:58.304653Z",
          "shell.execute_reply": "2022-06-27T22:34:58.314972Z"
        },
        "trusted": true,
        "colab": {
          "base_uri": "https://localhost:8080/"
        },
        "id": "ZBbaOn9URMja",
        "outputId": "ae924acc-1bb6-4bc3-fa5e-c151aa5a953d"
      },
      "execution_count": null,
      "outputs": [
        {
          "output_type": "execute_result",
          "data": {
            "text/plain": [
              "-1.611"
            ]
          },
          "metadata": {},
          "execution_count": 14
        }
      ]
    },
    {
      "cell_type": "markdown",
      "source": [
        "gradient descent\n",
        "1. randomly initializing parameters as latent factors for each user and movie\n",
        "2. calculate predictions (dot product of each movie w each user)\n",
        "  - if the first latent factor of a user for action movies is high and the movie is an action film (vice versa), it will have a high product. \n",
        "3. calculate loss with the mean squared error. By minimizing the loss we can optimize the paramters / latent factors."
      ],
      "metadata": {
        "id": "dAYLyzUCRMjb"
      }
    },
    {
      "cell_type": "code",
      "source": [
        "# viewing titles rather than movie IDs\n",
        "\n",
        "movies = pd.read_csv(path/'u.item',  delimiter='|', encoding='latin-1',\n",
        "                     usecols=(0,1), names=('movie','title'), header=None)\n",
        "movies.head()"
      ],
      "metadata": {
        "execution": {
          "iopub.status.busy": "2022-06-27T22:34:58.318129Z",
          "iopub.execute_input": "2022-06-27T22:34:58.319778Z",
          "iopub.status.idle": "2022-06-27T22:34:58.346197Z",
          "shell.execute_reply.started": "2022-06-27T22:34:58.319709Z",
          "shell.execute_reply": "2022-06-27T22:34:58.34494Z"
        },
        "trusted": true,
        "colab": {
          "base_uri": "https://localhost:8080/",
          "height": 204
        },
        "id": "RRyGfUBIRMje",
        "outputId": "cd5abe07-2945-4481-d77e-4a30b58fbbf4"
      },
      "execution_count": null,
      "outputs": [
        {
          "output_type": "execute_result",
          "data": {
            "text/plain": [
              "   movie              title\n",
              "0      1   Toy Story (1995)\n",
              "1      2   GoldenEye (1995)\n",
              "2      3  Four Rooms (1995)\n",
              "3      4  Get Shorty (1995)\n",
              "4      5     Copycat (1995)"
            ],
            "text/html": [
              "\n",
              "  <div id=\"df-3843678a-c391-4e57-ac2b-79d085a46a8b\">\n",
              "    <div class=\"colab-df-container\">\n",
              "      <div>\n",
              "<style scoped>\n",
              "    .dataframe tbody tr th:only-of-type {\n",
              "        vertical-align: middle;\n",
              "    }\n",
              "\n",
              "    .dataframe tbody tr th {\n",
              "        vertical-align: top;\n",
              "    }\n",
              "\n",
              "    .dataframe thead th {\n",
              "        text-align: right;\n",
              "    }\n",
              "</style>\n",
              "<table border=\"1\" class=\"dataframe\">\n",
              "  <thead>\n",
              "    <tr style=\"text-align: right;\">\n",
              "      <th></th>\n",
              "      <th>movie</th>\n",
              "      <th>title</th>\n",
              "    </tr>\n",
              "  </thead>\n",
              "  <tbody>\n",
              "    <tr>\n",
              "      <th>0</th>\n",
              "      <td>1</td>\n",
              "      <td>Toy Story (1995)</td>\n",
              "    </tr>\n",
              "    <tr>\n",
              "      <th>1</th>\n",
              "      <td>2</td>\n",
              "      <td>GoldenEye (1995)</td>\n",
              "    </tr>\n",
              "    <tr>\n",
              "      <th>2</th>\n",
              "      <td>3</td>\n",
              "      <td>Four Rooms (1995)</td>\n",
              "    </tr>\n",
              "    <tr>\n",
              "      <th>3</th>\n",
              "      <td>4</td>\n",
              "      <td>Get Shorty (1995)</td>\n",
              "    </tr>\n",
              "    <tr>\n",
              "      <th>4</th>\n",
              "      <td>5</td>\n",
              "      <td>Copycat (1995)</td>\n",
              "    </tr>\n",
              "  </tbody>\n",
              "</table>\n",
              "</div>\n",
              "      <button class=\"colab-df-convert\" onclick=\"convertToInteractive('df-3843678a-c391-4e57-ac2b-79d085a46a8b')\"\n",
              "              title=\"Convert this dataframe to an interactive table.\"\n",
              "              style=\"display:none;\">\n",
              "        \n",
              "  <svg xmlns=\"http://www.w3.org/2000/svg\" height=\"24px\"viewBox=\"0 0 24 24\"\n",
              "       width=\"24px\">\n",
              "    <path d=\"M0 0h24v24H0V0z\" fill=\"none\"/>\n",
              "    <path d=\"M18.56 5.44l.94 2.06.94-2.06 2.06-.94-2.06-.94-.94-2.06-.94 2.06-2.06.94zm-11 1L8.5 8.5l.94-2.06 2.06-.94-2.06-.94L8.5 2.5l-.94 2.06-2.06.94zm10 10l.94 2.06.94-2.06 2.06-.94-2.06-.94-.94-2.06-.94 2.06-2.06.94z\"/><path d=\"M17.41 7.96l-1.37-1.37c-.4-.4-.92-.59-1.43-.59-.52 0-1.04.2-1.43.59L10.3 9.45l-7.72 7.72c-.78.78-.78 2.05 0 2.83L4 21.41c.39.39.9.59 1.41.59.51 0 1.02-.2 1.41-.59l7.78-7.78 2.81-2.81c.8-.78.8-2.07 0-2.86zM5.41 20L4 18.59l7.72-7.72 1.47 1.35L5.41 20z\"/>\n",
              "  </svg>\n",
              "      </button>\n",
              "      \n",
              "  <style>\n",
              "    .colab-df-container {\n",
              "      display:flex;\n",
              "      flex-wrap:wrap;\n",
              "      gap: 12px;\n",
              "    }\n",
              "\n",
              "    .colab-df-convert {\n",
              "      background-color: #E8F0FE;\n",
              "      border: none;\n",
              "      border-radius: 50%;\n",
              "      cursor: pointer;\n",
              "      display: none;\n",
              "      fill: #1967D2;\n",
              "      height: 32px;\n",
              "      padding: 0 0 0 0;\n",
              "      width: 32px;\n",
              "    }\n",
              "\n",
              "    .colab-df-convert:hover {\n",
              "      background-color: #E2EBFA;\n",
              "      box-shadow: 0px 1px 2px rgba(60, 64, 67, 0.3), 0px 1px 3px 1px rgba(60, 64, 67, 0.15);\n",
              "      fill: #174EA6;\n",
              "    }\n",
              "\n",
              "    [theme=dark] .colab-df-convert {\n",
              "      background-color: #3B4455;\n",
              "      fill: #D2E3FC;\n",
              "    }\n",
              "\n",
              "    [theme=dark] .colab-df-convert:hover {\n",
              "      background-color: #434B5C;\n",
              "      box-shadow: 0px 1px 3px 1px rgba(0, 0, 0, 0.15);\n",
              "      filter: drop-shadow(0px 1px 2px rgba(0, 0, 0, 0.3));\n",
              "      fill: #FFFFFF;\n",
              "    }\n",
              "  </style>\n",
              "\n",
              "      <script>\n",
              "        const buttonEl =\n",
              "          document.querySelector('#df-3843678a-c391-4e57-ac2b-79d085a46a8b button.colab-df-convert');\n",
              "        buttonEl.style.display =\n",
              "          google.colab.kernel.accessAllowed ? 'block' : 'none';\n",
              "\n",
              "        async function convertToInteractive(key) {\n",
              "          const element = document.querySelector('#df-3843678a-c391-4e57-ac2b-79d085a46a8b');\n",
              "          const dataTable =\n",
              "            await google.colab.kernel.invokeFunction('convertToInteractive',\n",
              "                                                     [key], {});\n",
              "          if (!dataTable) return;\n",
              "\n",
              "          const docLinkHtml = 'Like what you see? Visit the ' +\n",
              "            '<a target=\"_blank\" href=https://colab.research.google.com/notebooks/data_table.ipynb>data table notebook</a>'\n",
              "            + ' to learn more about interactive tables.';\n",
              "          element.innerHTML = '';\n",
              "          dataTable['output_type'] = 'display_data';\n",
              "          await google.colab.output.renderOutput(dataTable, element);\n",
              "          const docLink = document.createElement('div');\n",
              "          docLink.innerHTML = docLinkHtml;\n",
              "          element.appendChild(docLink);\n",
              "        }\n",
              "      </script>\n",
              "    </div>\n",
              "  </div>\n",
              "  "
            ]
          },
          "metadata": {},
          "execution_count": 15
        }
      ]
    },
    {
      "cell_type": "code",
      "source": [
        "# mearge with ratings to see ratings by title\n",
        "ratings = ratings.merge(movies)\n",
        "ratings.head(6)"
      ],
      "metadata": {
        "execution": {
          "iopub.status.busy": "2022-06-27T22:34:58.348114Z",
          "iopub.execute_input": "2022-06-27T22:34:58.348935Z",
          "iopub.status.idle": "2022-06-27T22:34:58.401981Z",
          "shell.execute_reply.started": "2022-06-27T22:34:58.348883Z",
          "shell.execute_reply": "2022-06-27T22:34:58.400605Z"
        },
        "trusted": true,
        "colab": {
          "base_uri": "https://localhost:8080/",
          "height": 235
        },
        "id": "l2WEuzibRMjf",
        "outputId": "e70fa458-8829-4186-8b9c-f1dc5464845a"
      },
      "execution_count": null,
      "outputs": [
        {
          "output_type": "execute_result",
          "data": {
            "text/plain": [
              "   user  movie  rating  timestamp         title\n",
              "0   196    242       3  881250949  Kolya (1996)\n",
              "1    63    242       3  875747190  Kolya (1996)\n",
              "2   226    242       5  883888671  Kolya (1996)\n",
              "3   154    242       3  879138235  Kolya (1996)\n",
              "4   306    242       5  876503793  Kolya (1996)\n",
              "5   296    242       4  884196057  Kolya (1996)"
            ],
            "text/html": [
              "\n",
              "  <div id=\"df-5d24349c-5271-4f8d-8d83-2d7f48c6af0a\">\n",
              "    <div class=\"colab-df-container\">\n",
              "      <div>\n",
              "<style scoped>\n",
              "    .dataframe tbody tr th:only-of-type {\n",
              "        vertical-align: middle;\n",
              "    }\n",
              "\n",
              "    .dataframe tbody tr th {\n",
              "        vertical-align: top;\n",
              "    }\n",
              "\n",
              "    .dataframe thead th {\n",
              "        text-align: right;\n",
              "    }\n",
              "</style>\n",
              "<table border=\"1\" class=\"dataframe\">\n",
              "  <thead>\n",
              "    <tr style=\"text-align: right;\">\n",
              "      <th></th>\n",
              "      <th>user</th>\n",
              "      <th>movie</th>\n",
              "      <th>rating</th>\n",
              "      <th>timestamp</th>\n",
              "      <th>title</th>\n",
              "    </tr>\n",
              "  </thead>\n",
              "  <tbody>\n",
              "    <tr>\n",
              "      <th>0</th>\n",
              "      <td>196</td>\n",
              "      <td>242</td>\n",
              "      <td>3</td>\n",
              "      <td>881250949</td>\n",
              "      <td>Kolya (1996)</td>\n",
              "    </tr>\n",
              "    <tr>\n",
              "      <th>1</th>\n",
              "      <td>63</td>\n",
              "      <td>242</td>\n",
              "      <td>3</td>\n",
              "      <td>875747190</td>\n",
              "      <td>Kolya (1996)</td>\n",
              "    </tr>\n",
              "    <tr>\n",
              "      <th>2</th>\n",
              "      <td>226</td>\n",
              "      <td>242</td>\n",
              "      <td>5</td>\n",
              "      <td>883888671</td>\n",
              "      <td>Kolya (1996)</td>\n",
              "    </tr>\n",
              "    <tr>\n",
              "      <th>3</th>\n",
              "      <td>154</td>\n",
              "      <td>242</td>\n",
              "      <td>3</td>\n",
              "      <td>879138235</td>\n",
              "      <td>Kolya (1996)</td>\n",
              "    </tr>\n",
              "    <tr>\n",
              "      <th>4</th>\n",
              "      <td>306</td>\n",
              "      <td>242</td>\n",
              "      <td>5</td>\n",
              "      <td>876503793</td>\n",
              "      <td>Kolya (1996)</td>\n",
              "    </tr>\n",
              "    <tr>\n",
              "      <th>5</th>\n",
              "      <td>296</td>\n",
              "      <td>242</td>\n",
              "      <td>4</td>\n",
              "      <td>884196057</td>\n",
              "      <td>Kolya (1996)</td>\n",
              "    </tr>\n",
              "  </tbody>\n",
              "</table>\n",
              "</div>\n",
              "      <button class=\"colab-df-convert\" onclick=\"convertToInteractive('df-5d24349c-5271-4f8d-8d83-2d7f48c6af0a')\"\n",
              "              title=\"Convert this dataframe to an interactive table.\"\n",
              "              style=\"display:none;\">\n",
              "        \n",
              "  <svg xmlns=\"http://www.w3.org/2000/svg\" height=\"24px\"viewBox=\"0 0 24 24\"\n",
              "       width=\"24px\">\n",
              "    <path d=\"M0 0h24v24H0V0z\" fill=\"none\"/>\n",
              "    <path d=\"M18.56 5.44l.94 2.06.94-2.06 2.06-.94-2.06-.94-.94-2.06-.94 2.06-2.06.94zm-11 1L8.5 8.5l.94-2.06 2.06-.94-2.06-.94L8.5 2.5l-.94 2.06-2.06.94zm10 10l.94 2.06.94-2.06 2.06-.94-2.06-.94-.94-2.06-.94 2.06-2.06.94z\"/><path d=\"M17.41 7.96l-1.37-1.37c-.4-.4-.92-.59-1.43-.59-.52 0-1.04.2-1.43.59L10.3 9.45l-7.72 7.72c-.78.78-.78 2.05 0 2.83L4 21.41c.39.39.9.59 1.41.59.51 0 1.02-.2 1.41-.59l7.78-7.78 2.81-2.81c.8-.78.8-2.07 0-2.86zM5.41 20L4 18.59l7.72-7.72 1.47 1.35L5.41 20z\"/>\n",
              "  </svg>\n",
              "      </button>\n",
              "      \n",
              "  <style>\n",
              "    .colab-df-container {\n",
              "      display:flex;\n",
              "      flex-wrap:wrap;\n",
              "      gap: 12px;\n",
              "    }\n",
              "\n",
              "    .colab-df-convert {\n",
              "      background-color: #E8F0FE;\n",
              "      border: none;\n",
              "      border-radius: 50%;\n",
              "      cursor: pointer;\n",
              "      display: none;\n",
              "      fill: #1967D2;\n",
              "      height: 32px;\n",
              "      padding: 0 0 0 0;\n",
              "      width: 32px;\n",
              "    }\n",
              "\n",
              "    .colab-df-convert:hover {\n",
              "      background-color: #E2EBFA;\n",
              "      box-shadow: 0px 1px 2px rgba(60, 64, 67, 0.3), 0px 1px 3px 1px rgba(60, 64, 67, 0.15);\n",
              "      fill: #174EA6;\n",
              "    }\n",
              "\n",
              "    [theme=dark] .colab-df-convert {\n",
              "      background-color: #3B4455;\n",
              "      fill: #D2E3FC;\n",
              "    }\n",
              "\n",
              "    [theme=dark] .colab-df-convert:hover {\n",
              "      background-color: #434B5C;\n",
              "      box-shadow: 0px 1px 3px 1px rgba(0, 0, 0, 0.15);\n",
              "      filter: drop-shadow(0px 1px 2px rgba(0, 0, 0, 0.3));\n",
              "      fill: #FFFFFF;\n",
              "    }\n",
              "  </style>\n",
              "\n",
              "      <script>\n",
              "        const buttonEl =\n",
              "          document.querySelector('#df-5d24349c-5271-4f8d-8d83-2d7f48c6af0a button.colab-df-convert');\n",
              "        buttonEl.style.display =\n",
              "          google.colab.kernel.accessAllowed ? 'block' : 'none';\n",
              "\n",
              "        async function convertToInteractive(key) {\n",
              "          const element = document.querySelector('#df-5d24349c-5271-4f8d-8d83-2d7f48c6af0a');\n",
              "          const dataTable =\n",
              "            await google.colab.kernel.invokeFunction('convertToInteractive',\n",
              "                                                     [key], {});\n",
              "          if (!dataTable) return;\n",
              "\n",
              "          const docLinkHtml = 'Like what you see? Visit the ' +\n",
              "            '<a target=\"_blank\" href=https://colab.research.google.com/notebooks/data_table.ipynb>data table notebook</a>'\n",
              "            + ' to learn more about interactive tables.';\n",
              "          element.innerHTML = '';\n",
              "          dataTable['output_type'] = 'display_data';\n",
              "          await google.colab.output.renderOutput(dataTable, element);\n",
              "          const docLink = document.createElement('div');\n",
              "          docLink.innerHTML = docLinkHtml;\n",
              "          element.appendChild(docLink);\n",
              "        }\n",
              "      </script>\n",
              "    </div>\n",
              "  </div>\n",
              "  "
            ]
          },
          "metadata": {},
          "execution_count": 16
        }
      ]
    },
    {
      "cell_type": "code",
      "source": [
        "# create dataloadrs object\n",
        "dls = CollabDataLoaders.from_df(ratings, item_name='title', bs=64)\n",
        "dls.show_batch()"
      ],
      "metadata": {
        "execution": {
          "iopub.status.busy": "2022-06-27T22:34:58.406029Z",
          "iopub.execute_input": "2022-06-27T22:34:58.407132Z",
          "iopub.status.idle": "2022-06-27T22:34:58.659819Z",
          "shell.execute_reply.started": "2022-06-27T22:34:58.407085Z",
          "shell.execute_reply": "2022-06-27T22:34:58.658426Z"
        },
        "trusted": true,
        "colab": {
          "base_uri": "https://localhost:8080/",
          "height": 359
        },
        "id": "J_hPkmIPRMjf",
        "outputId": "2e3597e5-8664-4959-bea8-8bfcd83a289b"
      },
      "execution_count": null,
      "outputs": [
        {
          "output_type": "display_data",
          "data": {
            "text/plain": [
              "<IPython.core.display.HTML object>"
            ],
            "text/html": [
              "<table border=\"1\" class=\"dataframe\">\n",
              "  <thead>\n",
              "    <tr style=\"text-align: right;\">\n",
              "      <th></th>\n",
              "      <th>user</th>\n",
              "      <th>title</th>\n",
              "      <th>rating</th>\n",
              "    </tr>\n",
              "  </thead>\n",
              "  <tbody>\n",
              "    <tr>\n",
              "      <th>0</th>\n",
              "      <td>542</td>\n",
              "      <td>My Left Foot (1989)</td>\n",
              "      <td>4</td>\n",
              "    </tr>\n",
              "    <tr>\n",
              "      <th>1</th>\n",
              "      <td>422</td>\n",
              "      <td>Event Horizon (1997)</td>\n",
              "      <td>3</td>\n",
              "    </tr>\n",
              "    <tr>\n",
              "      <th>2</th>\n",
              "      <td>311</td>\n",
              "      <td>African Queen, The (1951)</td>\n",
              "      <td>4</td>\n",
              "    </tr>\n",
              "    <tr>\n",
              "      <th>3</th>\n",
              "      <td>595</td>\n",
              "      <td>Face/Off (1997)</td>\n",
              "      <td>4</td>\n",
              "    </tr>\n",
              "    <tr>\n",
              "      <th>4</th>\n",
              "      <td>617</td>\n",
              "      <td>Evil Dead II (1987)</td>\n",
              "      <td>1</td>\n",
              "    </tr>\n",
              "    <tr>\n",
              "      <th>5</th>\n",
              "      <td>158</td>\n",
              "      <td>Jurassic Park (1993)</td>\n",
              "      <td>5</td>\n",
              "    </tr>\n",
              "    <tr>\n",
              "      <th>6</th>\n",
              "      <td>836</td>\n",
              "      <td>Chasing Amy (1997)</td>\n",
              "      <td>3</td>\n",
              "    </tr>\n",
              "    <tr>\n",
              "      <th>7</th>\n",
              "      <td>474</td>\n",
              "      <td>Emma (1996)</td>\n",
              "      <td>3</td>\n",
              "    </tr>\n",
              "    <tr>\n",
              "      <th>8</th>\n",
              "      <td>466</td>\n",
              "      <td>Jackie Chan's First Strike (1996)</td>\n",
              "      <td>3</td>\n",
              "    </tr>\n",
              "    <tr>\n",
              "      <th>9</th>\n",
              "      <td>554</td>\n",
              "      <td>Scream (1996)</td>\n",
              "      <td>3</td>\n",
              "    </tr>\n",
              "  </tbody>\n",
              "</table>"
            ]
          },
          "metadata": {}
        }
      ]
    },
    {
      "cell_type": "code",
      "source": [
        "# create matrices to represent the movie and user latent factor\n",
        "\n",
        "n_users  = len(dls.classes['user'])\n",
        "n_movies = len(dls.classes['title'])\n",
        "n_factors = 5\n",
        "\n",
        "user_factors = torch.randn(n_users, n_factors)\n",
        "movie_factors = torch.randn(n_movies, n_factors)"
      ],
      "metadata": {
        "execution": {
          "iopub.status.busy": "2022-06-27T22:34:58.674575Z",
          "iopub.execute_input": "2022-06-27T22:34:58.675858Z",
          "iopub.status.idle": "2022-06-27T22:34:58.687494Z",
          "shell.execute_reply.started": "2022-06-27T22:34:58.675814Z",
          "shell.execute_reply": "2022-06-27T22:34:58.686168Z"
        },
        "trusted": true,
        "id": "GKiR6x8bRMjg"
      },
      "execution_count": null,
      "outputs": []
    },
    {
      "cell_type": "code",
      "source": [
        "#one hot encode the indices so that we can look up the index of the movie in the movie latent factor matrix \n",
        "#so that we can use that for calculating the movie user combo\n",
        "\n",
        "one_hot_3 = one_hot(3, n_users).float()"
      ],
      "metadata": {
        "execution": {
          "iopub.status.busy": "2022-06-27T22:34:58.689208Z",
          "iopub.execute_input": "2022-06-27T22:34:58.689934Z",
          "iopub.status.idle": "2022-06-27T22:34:58.70479Z",
          "shell.execute_reply.started": "2022-06-27T22:34:58.689892Z",
          "shell.execute_reply": "2022-06-27T22:34:58.703432Z"
        },
        "trusted": true,
        "id": "mxsrTnIdRMji"
      },
      "execution_count": null,
      "outputs": []
    },
    {
      "cell_type": "code",
      "source": [
        "user_factors.t() @ one_hot_3"
      ],
      "metadata": {
        "execution": {
          "iopub.status.busy": "2022-06-27T22:34:58.706572Z",
          "iopub.execute_input": "2022-06-27T22:34:58.707841Z",
          "iopub.status.idle": "2022-06-27T22:34:58.730934Z",
          "shell.execute_reply.started": "2022-06-27T22:34:58.707783Z",
          "shell.execute_reply": "2022-06-27T22:34:58.729791Z"
        },
        "trusted": true,
        "colab": {
          "base_uri": "https://localhost:8080/"
        },
        "id": "SViewttORMji",
        "outputId": "b86ec016-a444-40a4-d009-9f834bbd0481"
      },
      "execution_count": null,
      "outputs": [
        {
          "output_type": "execute_result",
          "data": {
            "text/plain": [
              "tensor([-0.4586, -0.9915, -0.4052, -0.3621, -0.5908])"
            ]
          },
          "metadata": {},
          "execution_count": 20
        }
      ]
    },
    {
      "cell_type": "code",
      "source": [
        "user_factors[3]"
      ],
      "metadata": {
        "execution": {
          "iopub.status.busy": "2022-06-27T22:34:58.73236Z",
          "iopub.execute_input": "2022-06-27T22:34:58.733288Z",
          "iopub.status.idle": "2022-06-27T22:34:58.745511Z",
          "shell.execute_reply.started": "2022-06-27T22:34:58.733241Z",
          "shell.execute_reply": "2022-06-27T22:34:58.744287Z"
        },
        "trusted": true,
        "colab": {
          "base_uri": "https://localhost:8080/"
        },
        "id": "plEqIbrGRMji",
        "outputId": "2499f387-d65f-4ba3-a92d-5a6c587d1e91"
      },
      "execution_count": null,
      "outputs": [
        {
          "output_type": "execute_result",
          "data": {
            "text/plain": [
              "tensor([-0.4586, -0.9915, -0.4052, -0.3621, -0.5908])"
            ]
          },
          "metadata": {},
          "execution_count": 21
        }
      ]
    },
    {
      "cell_type": "markdown",
      "source": [
        "- doing this for a few indices at once to have a matrix is tedious, sooooo\n",
        "- we use embedding, which multiplies one hot matrices by an embedding matrix\n",
        "- make the model learn the characterization of uesrs and movies by analyzing existing relations between the two\n",
        "- helps determine important features\n",
        "- random vector of length n to each user and movie to make them learnable"
      ],
      "metadata": {
        "id": "8f_8sdRVaBdy"
      }
    },
    {
      "cell_type": "code",
      "source": [
        "# collaborative filtering\n",
        "# using classes before writing the model\n",
        "# init is a method that initializes a state upon creation\n",
        "# self = first parameter of any method in a class to get attributes\n",
        "\n",
        "class Example:\n",
        "    def __init__(self, a): self.a = a\n",
        "    def say(self,x): return f'Hello {self.a}, {x}.'"
      ],
      "metadata": {
        "execution": {
          "iopub.status.busy": "2022-06-27T22:34:58.747619Z",
          "iopub.execute_input": "2022-06-27T22:34:58.748745Z",
          "iopub.status.idle": "2022-06-27T22:34:58.756531Z",
          "shell.execute_reply.started": "2022-06-27T22:34:58.74868Z",
          "shell.execute_reply": "2022-06-27T22:34:58.754847Z"
        },
        "trusted": true,
        "id": "CWlFFlTkRMjk"
      },
      "execution_count": null,
      "outputs": []
    },
    {
      "cell_type": "code",
      "source": [
        "ex = Example('Sylvain')\n",
        "ex.say('nice to meet you')"
      ],
      "metadata": {
        "execution": {
          "iopub.status.busy": "2022-06-27T22:34:58.758928Z",
          "iopub.execute_input": "2022-06-27T22:34:58.760249Z",
          "iopub.status.idle": "2022-06-27T22:34:58.772044Z",
          "shell.execute_reply.started": "2022-06-27T22:34:58.760197Z",
          "shell.execute_reply": "2022-06-27T22:34:58.770382Z"
        },
        "trusted": true,
        "colab": {
          "base_uri": "https://localhost:8080/",
          "height": 37
        },
        "id": "6K1CWnY4RMjk",
        "outputId": "a920f14c-fd23-4b91-b48f-417cef6efd60"
      },
      "execution_count": null,
      "outputs": [
        {
          "output_type": "execute_result",
          "data": {
            "text/plain": [
              "'Hello Sylvain, nice to meet you.'"
            ],
            "application/vnd.google.colaboratory.intrinsic+json": {
              "type": "string"
            }
          },
          "metadata": {},
          "execution_count": 24
        }
      ]
    },
    {
      "cell_type": "code",
      "source": [
        "bex = Example('Victoria')\n",
        "bex.say('you should really get more sleep')"
      ],
      "metadata": {
        "colab": {
          "base_uri": "https://localhost:8080/",
          "height": 37
        },
        "id": "4mkpvaAlcNGI",
        "outputId": "8d8e5e4c-09eb-4027-8965-31b279a4510b"
      },
      "execution_count": null,
      "outputs": [
        {
          "output_type": "execute_result",
          "data": {
            "text/plain": [
              "'Hello Victoria, you should really get more sleep.'"
            ],
            "application/vnd.google.colaboratory.intrinsic+json": {
              "type": "string"
            }
          },
          "metadata": {},
          "execution_count": 25
        }
      ]
    },
    {
      "cell_type": "code",
      "source": [
        "# a class to calculate the dot product\n",
        "# batch size x 2 tensor shape, column contains user id and the second one movie id\n",
        "# ptyhon calls forward when a method in class is called\n",
        "\n",
        "class DotProduct(Module):\n",
        "    def __init__(self, n_users, n_movies, n_factors):\n",
        "        self.user_factors = Embedding(n_users, n_factors)\n",
        "        self.movie_factors = Embedding(n_movies, n_factors)\n",
        "        \n",
        "    def forward(self, x):\n",
        "        users = self.user_factors(x[:,0])\n",
        "        movies = self.movie_factors(x[:,1])\n",
        "        return (users * movies).sum(dim=1)"
      ],
      "metadata": {
        "execution": {
          "iopub.status.busy": "2022-06-27T22:34:58.774287Z",
          "iopub.execute_input": "2022-06-27T22:34:58.77519Z",
          "iopub.status.idle": "2022-06-27T22:34:58.786753Z",
          "shell.execute_reply.started": "2022-06-27T22:34:58.775128Z",
          "shell.execute_reply": "2022-06-27T22:34:58.785104Z"
        },
        "trusted": true,
        "id": "wOyvQkIdRMjk"
      },
      "execution_count": null,
      "outputs": []
    },
    {
      "cell_type": "code",
      "source": [
        "x,y = dls.one_batch()\n",
        "x.shape"
      ],
      "metadata": {
        "execution": {
          "iopub.status.busy": "2022-06-27T22:34:58.788806Z",
          "iopub.execute_input": "2022-06-27T22:34:58.789513Z",
          "iopub.status.idle": "2022-06-27T22:34:58.925995Z",
          "shell.execute_reply.started": "2022-06-27T22:34:58.789442Z",
          "shell.execute_reply": "2022-06-27T22:34:58.924739Z"
        },
        "trusted": true,
        "colab": {
          "base_uri": "https://localhost:8080/"
        },
        "id": "0Sf6B-OVRMjl",
        "outputId": "b79abcc6-4979-440b-b8cf-332ddabd7440"
      },
      "execution_count": null,
      "outputs": [
        {
          "output_type": "execute_result",
          "data": {
            "text/plain": [
              "torch.Size([64, 2])"
            ]
          },
          "metadata": {},
          "execution_count": 27
        }
      ]
    },
    {
      "cell_type": "markdown",
      "source": [
        "Now that we have defined our architecture, and created our parameter matrices, we need to create a `Learner` to optimize our model. In the past we have used special functions, such as `cnn_learner`, which set up everything for us for a particular application. Since we are doing things from scratch here, we will use the plain `Learner` class:"
      ],
      "metadata": {
        "id": "DC6f8zMKRMjl"
      }
    },
    {
      "cell_type": "code",
      "source": [
        "# create a learner to optimize the model using the learner class\n",
        "# next: fit the model\n",
        "\n",
        "model = DotProduct(n_users, n_movies, 50)\n",
        "learn = Learner(dls, model, loss_func=MSELossFlat())"
      ],
      "metadata": {
        "execution": {
          "iopub.status.busy": "2022-06-27T22:34:58.927744Z",
          "iopub.execute_input": "2022-06-27T22:34:58.928149Z",
          "iopub.status.idle": "2022-06-27T22:34:58.941859Z",
          "shell.execute_reply.started": "2022-06-27T22:34:58.928115Z",
          "shell.execute_reply": "2022-06-27T22:34:58.940397Z"
        },
        "trusted": true,
        "id": "oancOMnORMjl"
      },
      "execution_count": null,
      "outputs": []
    },
    {
      "cell_type": "markdown",
      "source": [
        "We are now ready to fit our model:"
      ],
      "metadata": {
        "id": "RtCbptpBRMjl"
      }
    },
    {
      "cell_type": "code",
      "source": [
        "learn.fit_one_cycle(5, 5e-3)"
      ],
      "metadata": {
        "execution": {
          "iopub.status.busy": "2022-06-27T22:34:58.944564Z",
          "iopub.execute_input": "2022-06-27T22:34:58.945513Z",
          "iopub.status.idle": "2022-06-27T22:35:48.927727Z",
          "shell.execute_reply.started": "2022-06-27T22:34:58.945433Z",
          "shell.execute_reply": "2022-06-27T22:35:48.926507Z"
        },
        "trusted": true,
        "colab": {
          "base_uri": "https://localhost:8080/",
          "height": 204
        },
        "id": "9lqkiAipRMjl",
        "outputId": "9ca68402-4055-4b15-86be-2d9ead0febbf"
      },
      "execution_count": null,
      "outputs": [
        {
          "output_type": "display_data",
          "data": {
            "text/plain": [
              "<IPython.core.display.HTML object>"
            ],
            "text/html": [
              "\n",
              "<style>\n",
              "    /* Turns off some styling */\n",
              "    progress {\n",
              "        /* gets rid of default border in Firefox and Opera. */\n",
              "        border: none;\n",
              "        /* Needs to be in here for Safari polyfill so background images work as expected. */\n",
              "        background-size: auto;\n",
              "    }\n",
              "    progress:not([value]), progress:not([value])::-webkit-progress-bar {\n",
              "        background: repeating-linear-gradient(45deg, #7e7e7e, #7e7e7e 10px, #5c5c5c 10px, #5c5c5c 20px);\n",
              "    }\n",
              "    .progress-bar-interrupted, .progress-bar-interrupted::-webkit-progress-bar {\n",
              "        background: #F44336;\n",
              "    }\n",
              "</style>\n"
            ]
          },
          "metadata": {}
        },
        {
          "output_type": "display_data",
          "data": {
            "text/plain": [
              "<IPython.core.display.HTML object>"
            ],
            "text/html": [
              "<table border=\"1\" class=\"dataframe\">\n",
              "  <thead>\n",
              "    <tr style=\"text-align: left;\">\n",
              "      <th>epoch</th>\n",
              "      <th>train_loss</th>\n",
              "      <th>valid_loss</th>\n",
              "      <th>time</th>\n",
              "    </tr>\n",
              "  </thead>\n",
              "  <tbody>\n",
              "    <tr>\n",
              "      <td>0</td>\n",
              "      <td>1.344786</td>\n",
              "      <td>1.279100</td>\n",
              "      <td>00:07</td>\n",
              "    </tr>\n",
              "    <tr>\n",
              "      <td>1</td>\n",
              "      <td>1.093331</td>\n",
              "      <td>1.109981</td>\n",
              "      <td>00:07</td>\n",
              "    </tr>\n",
              "    <tr>\n",
              "      <td>2</td>\n",
              "      <td>0.958258</td>\n",
              "      <td>0.990199</td>\n",
              "      <td>00:07</td>\n",
              "    </tr>\n",
              "    <tr>\n",
              "      <td>3</td>\n",
              "      <td>0.814234</td>\n",
              "      <td>0.894916</td>\n",
              "      <td>00:12</td>\n",
              "    </tr>\n",
              "    <tr>\n",
              "      <td>4</td>\n",
              "      <td>0.780714</td>\n",
              "      <td>0.882022</td>\n",
              "      <td>00:08</td>\n",
              "    </tr>\n",
              "  </tbody>\n",
              "</table>"
            ]
          },
          "metadata": {}
        }
      ]
    },
    {
      "cell_type": "code",
      "source": [
        "# using the sigmoid range \n",
        "\n",
        "class DotProduct(Module):\n",
        "    def __init__(self, n_users, n_movies, n_factors, y_range=(0,5.5)):\n",
        "        self.user_factors = Embedding(n_users, n_factors)\n",
        "        self.movie_factors = Embedding(n_movies, n_factors)\n",
        "        self.y_range = y_range\n",
        "        \n",
        "    def forward(self, x):\n",
        "        users = self.user_factors(x[:,0])\n",
        "        movies = self.movie_factors(x[:,1])\n",
        "        return sigmoid_range((users * movies).sum(dim=1), *self.y_range)"
      ],
      "metadata": {
        "execution": {
          "iopub.status.busy": "2022-06-27T22:35:48.929572Z",
          "iopub.execute_input": "2022-06-27T22:35:48.931919Z",
          "iopub.status.idle": "2022-06-27T22:35:48.940594Z",
          "shell.execute_reply.started": "2022-06-27T22:35:48.931876Z",
          "shell.execute_reply": "2022-06-27T22:35:48.939325Z"
        },
        "trusted": true,
        "id": "eTZ1gfooRMjm"
      },
      "execution_count": null,
      "outputs": []
    },
    {
      "cell_type": "code",
      "source": [
        "model = DotProduct(n_users, n_movies, 50)\n",
        "learn = Learner(dls, model, loss_func=MSELossFlat())\n",
        "learn.fit_one_cycle(5, 5e-3)"
      ],
      "metadata": {
        "execution": {
          "iopub.status.busy": "2022-06-27T22:35:48.941998Z",
          "iopub.execute_input": "2022-06-27T22:35:48.942352Z",
          "iopub.status.idle": "2022-06-27T22:36:34.061813Z",
          "shell.execute_reply.started": "2022-06-27T22:35:48.942322Z",
          "shell.execute_reply": "2022-06-27T22:36:34.06068Z"
        },
        "trusted": true,
        "colab": {
          "base_uri": "https://localhost:8080/",
          "height": 204
        },
        "id": "_-11PwJqRMjm",
        "outputId": "6f807a70-edb9-478c-911f-25c276cb275d"
      },
      "execution_count": null,
      "outputs": [
        {
          "output_type": "display_data",
          "data": {
            "text/plain": [
              "<IPython.core.display.HTML object>"
            ],
            "text/html": [
              "\n",
              "<style>\n",
              "    /* Turns off some styling */\n",
              "    progress {\n",
              "        /* gets rid of default border in Firefox and Opera. */\n",
              "        border: none;\n",
              "        /* Needs to be in here for Safari polyfill so background images work as expected. */\n",
              "        background-size: auto;\n",
              "    }\n",
              "    progress:not([value]), progress:not([value])::-webkit-progress-bar {\n",
              "        background: repeating-linear-gradient(45deg, #7e7e7e, #7e7e7e 10px, #5c5c5c 10px, #5c5c5c 20px);\n",
              "    }\n",
              "    .progress-bar-interrupted, .progress-bar-interrupted::-webkit-progress-bar {\n",
              "        background: #F44336;\n",
              "    }\n",
              "</style>\n"
            ]
          },
          "metadata": {}
        },
        {
          "output_type": "display_data",
          "data": {
            "text/plain": [
              "<IPython.core.display.HTML object>"
            ],
            "text/html": [
              "<table border=\"1\" class=\"dataframe\">\n",
              "  <thead>\n",
              "    <tr style=\"text-align: left;\">\n",
              "      <th>epoch</th>\n",
              "      <th>train_loss</th>\n",
              "      <th>valid_loss</th>\n",
              "      <th>time</th>\n",
              "    </tr>\n",
              "  </thead>\n",
              "  <tbody>\n",
              "    <tr>\n",
              "      <td>0</td>\n",
              "      <td>0.972302</td>\n",
              "      <td>0.991141</td>\n",
              "      <td>00:07</td>\n",
              "    </tr>\n",
              "    <tr>\n",
              "      <td>1</td>\n",
              "      <td>0.870617</td>\n",
              "      <td>0.915232</td>\n",
              "      <td>00:08</td>\n",
              "    </tr>\n",
              "    <tr>\n",
              "      <td>2</td>\n",
              "      <td>0.677327</td>\n",
              "      <td>0.875926</td>\n",
              "      <td>00:07</td>\n",
              "    </tr>\n",
              "    <tr>\n",
              "      <td>3</td>\n",
              "      <td>0.483030</td>\n",
              "      <td>0.880021</td>\n",
              "      <td>00:07</td>\n",
              "    </tr>\n",
              "    <tr>\n",
              "      <td>4</td>\n",
              "      <td>0.374193</td>\n",
              "      <td>0.884209</td>\n",
              "      <td>00:09</td>\n",
              "    </tr>\n",
              "  </tbody>\n",
              "</table>"
            ]
          },
          "metadata": {}
        }
      ]
    },
    {
      "cell_type": "code",
      "source": [
        "# need biases and not just weights to handle missing info\n",
        "\n",
        "class DotProductBias(Module):\n",
        "    def __init__(self, n_users, n_movies, n_factors, y_range=(0,5.5)):\n",
        "        self.user_factors = Embedding(n_users, n_factors)\n",
        "        self.user_bias = Embedding(n_users, 1)\n",
        "        self.movie_factors = Embedding(n_movies, n_factors)\n",
        "        self.movie_bias = Embedding(n_movies, 1)\n",
        "        self.y_range = y_range\n",
        "        \n",
        "    def forward(self, x):\n",
        "        users = self.user_factors(x[:,0])\n",
        "        movies = self.movie_factors(x[:,1])\n",
        "        res = (users * movies).sum(dim=1, keepdim=True)\n",
        "        res += self.user_bias(x[:,0]) + self.movie_bias(x[:,1])\n",
        "        return sigmoid_range(res, *self.y_range)"
      ],
      "metadata": {
        "execution": {
          "iopub.status.busy": "2022-06-27T22:36:34.063194Z",
          "iopub.execute_input": "2022-06-27T22:36:34.063529Z",
          "iopub.status.idle": "2022-06-27T22:36:34.073745Z",
          "shell.execute_reply.started": "2022-06-27T22:36:34.0635Z",
          "shell.execute_reply": "2022-06-27T22:36:34.072598Z"
        },
        "trusted": true,
        "id": "XWCpLGfdRMjm"
      },
      "execution_count": null,
      "outputs": []
    },
    {
      "cell_type": "code",
      "source": [
        "model = DotProductBias(n_users, n_movies, 50)\n",
        "learn = Learner(dls, model, loss_func=MSELossFlat())\n",
        "learn.fit_one_cycle(5, 5e-3)"
      ],
      "metadata": {
        "execution": {
          "iopub.status.busy": "2022-06-27T22:36:34.075433Z",
          "iopub.execute_input": "2022-06-27T22:36:34.075791Z",
          "iopub.status.idle": "2022-06-27T22:37:18.123472Z",
          "shell.execute_reply.started": "2022-06-27T22:36:34.075761Z",
          "shell.execute_reply": "2022-06-27T22:37:18.122528Z"
        },
        "trusted": true,
        "colab": {
          "base_uri": "https://localhost:8080/",
          "height": 204
        },
        "id": "PBEdl_k4RMjm",
        "outputId": "6e7fc0af-7dfc-42d1-d5ea-df78c8929c9a"
      },
      "execution_count": null,
      "outputs": [
        {
          "output_type": "display_data",
          "data": {
            "text/plain": [
              "<IPython.core.display.HTML object>"
            ],
            "text/html": [
              "\n",
              "<style>\n",
              "    /* Turns off some styling */\n",
              "    progress {\n",
              "        /* gets rid of default border in Firefox and Opera. */\n",
              "        border: none;\n",
              "        /* Needs to be in here for Safari polyfill so background images work as expected. */\n",
              "        background-size: auto;\n",
              "    }\n",
              "    progress:not([value]), progress:not([value])::-webkit-progress-bar {\n",
              "        background: repeating-linear-gradient(45deg, #7e7e7e, #7e7e7e 10px, #5c5c5c 10px, #5c5c5c 20px);\n",
              "    }\n",
              "    .progress-bar-interrupted, .progress-bar-interrupted::-webkit-progress-bar {\n",
              "        background: #F44336;\n",
              "    }\n",
              "</style>\n"
            ]
          },
          "metadata": {}
        },
        {
          "output_type": "display_data",
          "data": {
            "text/plain": [
              "<IPython.core.display.HTML object>"
            ],
            "text/html": [
              "<table border=\"1\" class=\"dataframe\">\n",
              "  <thead>\n",
              "    <tr style=\"text-align: left;\">\n",
              "      <th>epoch</th>\n",
              "      <th>train_loss</th>\n",
              "      <th>valid_loss</th>\n",
              "      <th>time</th>\n",
              "    </tr>\n",
              "  </thead>\n",
              "  <tbody>\n",
              "    <tr>\n",
              "      <td>0</td>\n",
              "      <td>0.935379</td>\n",
              "      <td>0.950517</td>\n",
              "      <td>00:07</td>\n",
              "    </tr>\n",
              "    <tr>\n",
              "      <td>1</td>\n",
              "      <td>0.841818</td>\n",
              "      <td>0.867305</td>\n",
              "      <td>00:07</td>\n",
              "    </tr>\n",
              "    <tr>\n",
              "      <td>2</td>\n",
              "      <td>0.595711</td>\n",
              "      <td>0.868791</td>\n",
              "      <td>00:07</td>\n",
              "    </tr>\n",
              "    <tr>\n",
              "      <td>3</td>\n",
              "      <td>0.415252</td>\n",
              "      <td>0.893113</td>\n",
              "      <td>00:07</td>\n",
              "    </tr>\n",
              "    <tr>\n",
              "      <td>4</td>\n",
              "      <td>0.291982</td>\n",
              "      <td>0.900676</td>\n",
              "      <td>00:07</td>\n",
              "    </tr>\n",
              "  </tbody>\n",
              "</table>"
            ]
          },
          "metadata": {}
        }
      ]
    },
    {
      "cell_type": "markdown",
      "source": [
        "- the model is worse?? weird\n",
        "- maybe because of the validation loss?\n",
        "- idk why"
      ],
      "metadata": {
        "id": "n6xcvymtgqPB"
      }
    },
    {
      "cell_type": "code",
      "source": [
        "# weight decaying so adding to loss function of the weights squared to make the weights as small as possible\n",
        "# to prevent overfitting\n",
        "\n",
        "x = np.linspace(-2,2,100)\n",
        "a_s = [1,2,5,10,50] \n",
        "ys = [a * x**2 for a in a_s]\n",
        "_,ax = plt.subplots(figsize=(8,6))\n",
        "for a,y in zip(a_s,ys): ax.plot(x,y, label=f'a={a}')\n",
        "ax.set_ylim([0,5])\n",
        "ax.legend();"
      ],
      "metadata": {
        "hide_input": true,
        "execution": {
          "iopub.status.busy": "2022-06-27T22:37:18.125086Z",
          "iopub.execute_input": "2022-06-27T22:37:18.125918Z",
          "iopub.status.idle": "2022-06-27T22:37:18.392132Z",
          "shell.execute_reply.started": "2022-06-27T22:37:18.125873Z",
          "shell.execute_reply": "2022-06-27T22:37:18.390905Z"
        },
        "trusted": true,
        "colab": {
          "base_uri": "https://localhost:8080/",
          "height": 528
        },
        "id": "kZS8iXeFRMjn",
        "outputId": "691661a1-ff93-490d-be65-2a0c0ea183e9"
      },
      "execution_count": null,
      "outputs": [
        {
          "output_type": "display_data",
          "data": {
            "text/plain": [
              "<Figure size 800x600 with 1 Axes>"
            ],
            "image/png": "[encoded data removed]"
          },
          "metadata": {}
        }
      ]
    },
    {
      "cell_type": "code",
      "source": [
        "# limiting weights hinders trainng but gets to a more generalized state\n",
        "\n",
        "model = DotProductBias(n_users, n_movies, 50)\n",
        "learn = Learner(dls, model, loss_func=MSELossFlat())\n",
        "learn.fit_one_cycle(5, 5e-3, wd=0.1)"
      ],
      "metadata": {
        "execution": {
          "iopub.status.busy": "2022-06-27T22:37:18.393669Z",
          "iopub.execute_input": "2022-06-27T22:37:18.393975Z",
          "iopub.status.idle": "2022-06-27T22:38:01.696224Z",
          "shell.execute_reply.started": "2022-06-27T22:37:18.393949Z",
          "shell.execute_reply": "2022-06-27T22:38:01.695416Z"
        },
        "trusted": true,
        "colab": {
          "base_uri": "https://localhost:8080/",
          "height": 204
        },
        "id": "ZktPuSZURMjn",
        "outputId": "83940889-8f43-4145-f5e9-6bc6198defe7"
      },
      "execution_count": null,
      "outputs": [
        {
          "output_type": "display_data",
          "data": {
            "text/plain": [
              "<IPython.core.display.HTML object>"
            ],
            "text/html": [
              "\n",
              "<style>\n",
              "    /* Turns off some styling */\n",
              "    progress {\n",
              "        /* gets rid of default border in Firefox and Opera. */\n",
              "        border: none;\n",
              "        /* Needs to be in here for Safari polyfill so background images work as expected. */\n",
              "        background-size: auto;\n",
              "    }\n",
              "    progress:not([value]), progress:not([value])::-webkit-progress-bar {\n",
              "        background: repeating-linear-gradient(45deg, #7e7e7e, #7e7e7e 10px, #5c5c5c 10px, #5c5c5c 20px);\n",
              "    }\n",
              "    .progress-bar-interrupted, .progress-bar-interrupted::-webkit-progress-bar {\n",
              "        background: #F44336;\n",
              "    }\n",
              "</style>\n"
            ]
          },
          "metadata": {}
        },
        {
          "output_type": "display_data",
          "data": {
            "text/plain": [
              "<IPython.core.display.HTML object>"
            ],
            "text/html": [
              "<table border=\"1\" class=\"dataframe\">\n",
              "  <thead>\n",
              "    <tr style=\"text-align: left;\">\n",
              "      <th>epoch</th>\n",
              "      <th>train_loss</th>\n",
              "      <th>valid_loss</th>\n",
              "      <th>time</th>\n",
              "    </tr>\n",
              "  </thead>\n",
              "  <tbody>\n",
              "    <tr>\n",
              "      <td>0</td>\n",
              "      <td>0.921140</td>\n",
              "      <td>0.950414</td>\n",
              "      <td>00:10</td>\n",
              "    </tr>\n",
              "    <tr>\n",
              "      <td>1</td>\n",
              "      <td>0.882541</td>\n",
              "      <td>0.878911</td>\n",
              "      <td>00:09</td>\n",
              "    </tr>\n",
              "    <tr>\n",
              "      <td>2</td>\n",
              "      <td>0.765740</td>\n",
              "      <td>0.829301</td>\n",
              "      <td>00:10</td>\n",
              "    </tr>\n",
              "    <tr>\n",
              "      <td>3</td>\n",
              "      <td>0.597118</td>\n",
              "      <td>0.819820</td>\n",
              "      <td>00:08</td>\n",
              "    </tr>\n",
              "    <tr>\n",
              "      <td>4</td>\n",
              "      <td>0.497317</td>\n",
              "      <td>0.820298</td>\n",
              "      <td>00:08</td>\n",
              "    </tr>\n",
              "  </tbody>\n",
              "</table>"
            ]
          },
          "metadata": {}
        }
      ]
    },
    {
      "cell_type": "code",
      "source": [
        "# randomly initi weigth matrices for each embeddings\n",
        "\n",
        "class T(Module):\n",
        "    def __init__(self): self.a = torch.ones(3)\n",
        "\n",
        "L(T().parameters())"
      ],
      "metadata": {
        "execution": {
          "iopub.status.busy": "2022-06-27T22:38:01.702734Z",
          "iopub.execute_input": "2022-06-27T22:38:01.703068Z",
          "iopub.status.idle": "2022-06-27T22:38:01.710362Z",
          "shell.execute_reply.started": "2022-06-27T22:38:01.703038Z",
          "shell.execute_reply": "2022-06-27T22:38:01.709553Z"
        },
        "trusted": true,
        "colab": {
          "base_uri": "https://localhost:8080/"
        },
        "id": "k4RitS4KRMjo",
        "outputId": "9358158b-8e38-4ad1-f6fe-85ba764efbae"
      },
      "execution_count": null,
      "outputs": [
        {
          "output_type": "execute_result",
          "data": {
            "text/plain": [
              "(#0) []"
            ]
          },
          "metadata": {},
          "execution_count": 37
        }
      ]
    },
    {
      "cell_type": "code",
      "source": [
        "class T(Module):\n",
        "    def __init__(self): self.a = nn.Parameter(torch.ones(3))\n",
        "\n",
        "L(T().parameters())"
      ],
      "metadata": {
        "execution": {
          "iopub.status.busy": "2022-06-27T22:38:01.711604Z",
          "iopub.execute_input": "2022-06-27T22:38:01.711907Z",
          "iopub.status.idle": "2022-06-27T22:38:01.722702Z",
          "shell.execute_reply.started": "2022-06-27T22:38:01.71188Z",
          "shell.execute_reply": "2022-06-27T22:38:01.721745Z"
        },
        "trusted": true,
        "colab": {
          "base_uri": "https://localhost:8080/"
        },
        "id": "SurNtU_fRMjo",
        "outputId": "27a48a84-e69f-4809-854b-52629c9365c5"
      },
      "execution_count": null,
      "outputs": [
        {
          "output_type": "execute_result",
          "data": {
            "text/plain": [
              "(#1) [Parameter containing:\n",
              "tensor([1., 1., 1.], requires_grad=True)]"
            ]
          },
          "metadata": {},
          "execution_count": 38
        }
      ]
    },
    {
      "cell_type": "code",
      "source": [
        "class T(Module):\n",
        "    def __init__(self): self.a = nn.Linear(1, 3, bias=False)\n",
        "\n",
        "t = T()\n",
        "L(t.parameters())"
      ],
      "metadata": {
        "execution": {
          "iopub.status.busy": "2022-06-27T22:38:01.724155Z",
          "iopub.execute_input": "2022-06-27T22:38:01.724459Z",
          "iopub.status.idle": "2022-06-27T22:38:01.732462Z",
          "shell.execute_reply.started": "2022-06-27T22:38:01.724433Z",
          "shell.execute_reply": "2022-06-27T22:38:01.731739Z"
        },
        "trusted": true,
        "colab": {
          "base_uri": "https://localhost:8080/"
        },
        "id": "U4ZmMpieRMjo",
        "outputId": "60f7a019-31e6-42d1-f7e3-13e1c213a977"
      },
      "execution_count": null,
      "outputs": [
        {
          "output_type": "execute_result",
          "data": {
            "text/plain": [
              "(#1) [Parameter containing:\n",
              "tensor([[0.8652],\n",
              "        [0.3820],\n",
              "        [0.4437]], requires_grad=True)]"
            ]
          },
          "metadata": {},
          "execution_count": 39
        }
      ]
    },
    {
      "cell_type": "code",
      "source": [
        "type(t.a.weight)"
      ],
      "metadata": {
        "execution": {
          "iopub.status.busy": "2022-06-27T22:38:01.733772Z",
          "iopub.execute_input": "2022-06-27T22:38:01.734122Z",
          "iopub.status.idle": "2022-06-27T22:38:01.742943Z",
          "shell.execute_reply.started": "2022-06-27T22:38:01.734094Z",
          "shell.execute_reply": "2022-06-27T22:38:01.74192Z"
        },
        "trusted": true,
        "colab": {
          "base_uri": "https://localhost:8080/"
        },
        "id": "frQEf18FRMjo",
        "outputId": "0b10abda-a1bf-44db-ffba-82f48f97dec4"
      },
      "execution_count": null,
      "outputs": [
        {
          "output_type": "execute_result",
          "data": {
            "text/plain": [
              "torch.nn.parameter.Parameter"
            ]
          },
          "metadata": {},
          "execution_count": 40
        }
      ]
    },
    {
      "cell_type": "code",
      "source": [
        "# creating a tensor as parameter \n",
        "\n",
        "def create_params(size):\n",
        "    return nn.Parameter(torch.zeros(*size).normal_(0, 0.01))"
      ],
      "metadata": {
        "execution": {
          "iopub.status.busy": "2022-06-27T22:38:01.744116Z",
          "iopub.execute_input": "2022-06-27T22:38:01.744455Z",
          "iopub.status.idle": "2022-06-27T22:38:01.757499Z",
          "shell.execute_reply.started": "2022-06-27T22:38:01.744428Z",
          "shell.execute_reply": "2022-06-27T22:38:01.756435Z"
        },
        "trusted": true,
        "id": "Z9enndj4RMjp"
      },
      "execution_count": null,
      "outputs": []
    },
    {
      "cell_type": "code",
      "source": [
        "# using all of this to recreate the bias without embedding\n",
        "\n",
        "class DotProductBias(Module):\n",
        "    def __init__(self, n_users, n_movies, n_factors, y_range=(0,5.5)):\n",
        "        self.user_factors = create_params([n_users, n_factors])\n",
        "        self.user_bias = create_params([n_users])\n",
        "        self.movie_factors = create_params([n_movies, n_factors])\n",
        "        self.movie_bias = create_params([n_movies])\n",
        "        self.y_range = y_range\n",
        "        \n",
        "    def forward(self, x):\n",
        "        users = self.user_factors[x[:,0]]\n",
        "        movies = self.movie_factors[x[:,1]]\n",
        "        res = (users*movies).sum(dim=1)\n",
        "        res += self.user_bias[x[:,0]] + self.movie_bias[x[:,1]]\n",
        "        return sigmoid_range(res, *self.y_range)"
      ],
      "metadata": {
        "execution": {
          "iopub.status.busy": "2022-06-27T22:38:01.75888Z",
          "iopub.execute_input": "2022-06-27T22:38:01.7592Z",
          "iopub.status.idle": "2022-06-27T22:38:01.769728Z",
          "shell.execute_reply.started": "2022-06-27T22:38:01.759172Z",
          "shell.execute_reply": "2022-06-27T22:38:01.768694Z"
        },
        "trusted": true,
        "id": "En30C9QhRMjp"
      },
      "execution_count": null,
      "outputs": []
    },
    {
      "cell_type": "code",
      "source": [
        "# retraining it and comparing it with previous section\n",
        "\n",
        "model = DotProductBias(n_users, n_movies, 50)\n",
        "learn = Learner(dls, model, loss_func=MSELossFlat())\n",
        "learn.fit_one_cycle(5, 5e-3, wd=0.1)"
      ],
      "metadata": {
        "execution": {
          "iopub.status.busy": "2022-06-27T22:38:01.771413Z",
          "iopub.execute_input": "2022-06-27T22:38:01.772178Z",
          "iopub.status.idle": "2022-06-27T22:38:50.81073Z",
          "shell.execute_reply.started": "2022-06-27T22:38:01.772148Z",
          "shell.execute_reply": "2022-06-27T22:38:50.809559Z"
        },
        "trusted": true,
        "colab": {
          "base_uri": "https://localhost:8080/",
          "height": 204
        },
        "id": "MDDkndV7RMjp",
        "outputId": "c9ad9717-5da9-4842-8e6b-04417fbf8286"
      },
      "execution_count": null,
      "outputs": [
        {
          "output_type": "display_data",
          "data": {
            "text/plain": [
              "<IPython.core.display.HTML object>"
            ],
            "text/html": [
              "\n",
              "<style>\n",
              "    /* Turns off some styling */\n",
              "    progress {\n",
              "        /* gets rid of default border in Firefox and Opera. */\n",
              "        border: none;\n",
              "        /* Needs to be in here for Safari polyfill so background images work as expected. */\n",
              "        background-size: auto;\n",
              "    }\n",
              "    progress:not([value]), progress:not([value])::-webkit-progress-bar {\n",
              "        background: repeating-linear-gradient(45deg, #7e7e7e, #7e7e7e 10px, #5c5c5c 10px, #5c5c5c 20px);\n",
              "    }\n",
              "    .progress-bar-interrupted, .progress-bar-interrupted::-webkit-progress-bar {\n",
              "        background: #F44336;\n",
              "    }\n",
              "</style>\n"
            ]
          },
          "metadata": {}
        },
        {
          "output_type": "display_data",
          "data": {
            "text/plain": [
              "<IPython.core.display.HTML object>"
            ],
            "text/html": [
              "<table border=\"1\" class=\"dataframe\">\n",
              "  <thead>\n",
              "    <tr style=\"text-align: left;\">\n",
              "      <th>epoch</th>\n",
              "      <th>train_loss</th>\n",
              "      <th>valid_loss</th>\n",
              "      <th>time</th>\n",
              "    </tr>\n",
              "  </thead>\n",
              "  <tbody>\n",
              "    <tr>\n",
              "      <td>0</td>\n",
              "      <td>0.923665</td>\n",
              "      <td>0.946485</td>\n",
              "      <td>00:09</td>\n",
              "    </tr>\n",
              "    <tr>\n",
              "      <td>1</td>\n",
              "      <td>0.867032</td>\n",
              "      <td>0.880817</td>\n",
              "      <td>00:08</td>\n",
              "    </tr>\n",
              "    <tr>\n",
              "      <td>2</td>\n",
              "      <td>0.731870</td>\n",
              "      <td>0.839911</td>\n",
              "      <td>00:10</td>\n",
              "    </tr>\n",
              "    <tr>\n",
              "      <td>3</td>\n",
              "      <td>0.588223</td>\n",
              "      <td>0.828859</td>\n",
              "      <td>00:10</td>\n",
              "    </tr>\n",
              "    <tr>\n",
              "      <td>4</td>\n",
              "      <td>0.479648</td>\n",
              "      <td>0.828629</td>\n",
              "      <td>00:08</td>\n",
              "    </tr>\n",
              "  </tbody>\n",
              "</table>"
            ]
          },
          "metadata": {}
        }
      ]
    },
    {
      "cell_type": "markdown",
      "source": [
        "Our model is already useful, in that it can provide us with movie recommendations for our users—but it is also interesting to see what parameters it has discovered. The easiest to interpret are the biases. Here are the movies with the lowest values in the bias vector:"
      ],
      "metadata": {
        "id": "GA5PvPI1RMjq"
      }
    },
    {
      "cell_type": "code",
      "source": [
        "# looking at movies with lowest values in bias vector to interpret them\n",
        "\n",
        "movie_bias = learn.model.movie_bias.squeeze()\n",
        "idxs = movie_bias.argsort()[:5]\n",
        "[dls.classes['title'][i] for i in idxs]\n",
        "\n",
        "# seems to be movie types that are generally disliked regardless of favorable genre"
      ],
      "metadata": {
        "execution": {
          "iopub.status.busy": "2022-06-27T22:38:50.812657Z",
          "iopub.execute_input": "2022-06-27T22:38:50.813069Z",
          "iopub.status.idle": "2022-06-27T22:38:50.828351Z",
          "shell.execute_reply.started": "2022-06-27T22:38:50.813029Z",
          "shell.execute_reply": "2022-06-27T22:38:50.827118Z"
        },
        "trusted": true,
        "colab": {
          "base_uri": "https://localhost:8080/"
        },
        "id": "EFprWlt5RMjq",
        "outputId": "f7733bc1-0bc5-445c-d7a9-e95fc1d082bb"
      },
      "execution_count": null,
      "outputs": [
        {
          "output_type": "execute_result",
          "data": {
            "text/plain": [
              "['Children of the Corn: The Gathering (1996)',\n",
              " 'Lawnmower Man 2: Beyond Cyberspace (1996)',\n",
              " 'Robocop 3 (1993)',\n",
              " 'Mortal Kombat: Annihilation (1997)',\n",
              " 'Beautician and the Beast, The (1997)']"
            ]
          },
          "metadata": {},
          "execution_count": 44
        }
      ]
    },
    {
      "cell_type": "code",
      "source": [
        "# highes bias\n",
        "\n",
        "idxs = movie_bias.argsort(descending=True)[:5]\n",
        "[dls.classes['title'][i] for i in idxs]\n",
        "\n",
        "# ex. even if you don't like a particular genre, certain movies from that genre might be enjoyable"
      ],
      "metadata": {
        "execution": {
          "iopub.status.busy": "2022-06-27T22:38:50.830078Z",
          "iopub.execute_input": "2022-06-27T22:38:50.830836Z",
          "iopub.status.idle": "2022-06-27T22:38:50.839456Z",
          "shell.execute_reply.started": "2022-06-27T22:38:50.830794Z",
          "shell.execute_reply": "2022-06-27T22:38:50.838293Z"
        },
        "trusted": true,
        "colab": {
          "base_uri": "https://localhost:8080/"
        },
        "id": "s4tg9u2LRMjq",
        "outputId": "8e47aad0-848d-4cb2-a943-8da30d21f23b"
      },
      "execution_count": null,
      "outputs": [
        {
          "output_type": "execute_result",
          "data": {
            "text/plain": [
              "['Titanic (1997)',\n",
              " 'Shawshank Redemption, The (1994)',\n",
              " 'Silence of the Lambs, The (1991)',\n",
              " 'L.A. Confidential (1997)',\n",
              " \"Schindler's List (1993)\"]"
            ]
          },
          "metadata": {},
          "execution_count": 45
        }
      ]
    },
    {
      "cell_type": "code",
      "source": [
        "# movies based on two strongest principal component analysis (underlying directions in a matrix)\n",
        "\n",
        "g = ratings.groupby('title')['rating'].count()\n",
        "top_movies = g.sort_values(ascending=False).index.values[:1000]\n",
        "top_idxs = tensor([learn.dls.classes['title'].o2i[m] for m in top_movies])\n",
        "movie_w = learn.model.movie_factors[top_idxs].cpu().detach()\n",
        "movie_pca = movie_w.pca(3)\n",
        "fac0,fac1,fac2 = movie_pca.t()\n",
        "idxs = list(range(50))\n",
        "X = fac0[idxs]\n",
        "Y = fac2[idxs]\n",
        "plt.figure(figsize=(12,12))\n",
        "plt.scatter(X, Y)\n",
        "for i, x, y in zip(top_movies[idxs], X, Y):\n",
        "    plt.text(x,y,i, color=np.random.rand(3)*0.7, fontsize=11)\n",
        "plt.show()"
      ],
      "metadata": {
        "hide_input": true,
        "execution": {
          "iopub.status.busy": "2022-06-27T22:38:50.841578Z",
          "iopub.execute_input": "2022-06-27T22:38:50.8424Z",
          "iopub.status.idle": "2022-06-27T22:38:51.801456Z",
          "shell.execute_reply.started": "2022-06-27T22:38:50.842348Z",
          "shell.execute_reply": "2022-06-27T22:38:51.800397Z"
        },
        "trusted": true,
        "colab": {
          "base_uri": "https://localhost:8080/",
          "height": 984
        },
        "id": "kmvm39hWRMjq",
        "outputId": "78e4f560-36a1-4ac1-ca3f-ec254546da0b"
      },
      "execution_count": null,
      "outputs": [
        {
          "output_type": "display_data",
          "data": {
            "text/plain": [
              "<Figure size 1200x1200 with 1 Axes>"
            ],
            "image/png": "[encoded data removed]"
          },
          "metadata": {}
        }
      ]
    },
    {
      "cell_type": "code",
      "source": [
        "# using  collab filtering model with the same struncutre and training it using the fastai function collab learner\n",
        "# couldbe skipped all of the previous stufff, it's just what's inside of this one\n",
        "\n",
        "learn = collab_learner(dls, n_factors=50, y_range=(0, 5.5))"
      ],
      "metadata": {
        "execution": {
          "iopub.status.busy": "2022-06-27T22:38:51.802843Z",
          "iopub.execute_input": "2022-06-27T22:38:51.80374Z",
          "iopub.status.idle": "2022-06-27T22:38:51.814462Z",
          "shell.execute_reply.started": "2022-06-27T22:38:51.803699Z",
          "shell.execute_reply": "2022-06-27T22:38:51.813161Z"
        },
        "trusted": true,
        "id": "e-Kb2Fx-RMjr"
      },
      "execution_count": null,
      "outputs": []
    },
    {
      "cell_type": "code",
      "source": [
        "learn.fit_one_cycle(5, 5e-3, wd=0.1)"
      ],
      "metadata": {
        "execution": {
          "iopub.status.busy": "2022-06-27T22:38:51.815959Z",
          "iopub.execute_input": "2022-06-27T22:38:51.816514Z",
          "iopub.status.idle": "2022-06-27T22:39:38.404979Z",
          "shell.execute_reply.started": "2022-06-27T22:38:51.816467Z",
          "shell.execute_reply": "2022-06-27T22:39:38.403707Z"
        },
        "trusted": true,
        "colab": {
          "base_uri": "https://localhost:8080/",
          "height": 204
        },
        "id": "C76teRQuRMjr",
        "outputId": "af9a888f-d599-44c7-de99-36ce0c8d6dd6"
      },
      "execution_count": null,
      "outputs": [
        {
          "output_type": "display_data",
          "data": {
            "text/plain": [
              "<IPython.core.display.HTML object>"
            ],
            "text/html": [
              "\n",
              "<style>\n",
              "    /* Turns off some styling */\n",
              "    progress {\n",
              "        /* gets rid of default border in Firefox and Opera. */\n",
              "        border: none;\n",
              "        /* Needs to be in here for Safari polyfill so background images work as expected. */\n",
              "        background-size: auto;\n",
              "    }\n",
              "    progress:not([value]), progress:not([value])::-webkit-progress-bar {\n",
              "        background: repeating-linear-gradient(45deg, #7e7e7e, #7e7e7e 10px, #5c5c5c 10px, #5c5c5c 20px);\n",
              "    }\n",
              "    .progress-bar-interrupted, .progress-bar-interrupted::-webkit-progress-bar {\n",
              "        background: #F44336;\n",
              "    }\n",
              "</style>\n"
            ]
          },
          "metadata": {}
        },
        {
          "output_type": "display_data",
          "data": {
            "text/plain": [
              "<IPython.core.display.HTML object>"
            ],
            "text/html": [
              "<table border=\"1\" class=\"dataframe\">\n",
              "  <thead>\n",
              "    <tr style=\"text-align: left;\">\n",
              "      <th>epoch</th>\n",
              "      <th>train_loss</th>\n",
              "      <th>valid_loss</th>\n",
              "      <th>time</th>\n",
              "    </tr>\n",
              "  </thead>\n",
              "  <tbody>\n",
              "    <tr>\n",
              "      <td>0</td>\n",
              "      <td>0.941115</td>\n",
              "      <td>0.957840</td>\n",
              "      <td>00:07</td>\n",
              "    </tr>\n",
              "    <tr>\n",
              "      <td>1</td>\n",
              "      <td>0.836133</td>\n",
              "      <td>0.873571</td>\n",
              "      <td>00:08</td>\n",
              "    </tr>\n",
              "    <tr>\n",
              "      <td>2</td>\n",
              "      <td>0.710926</td>\n",
              "      <td>0.832362</td>\n",
              "      <td>00:07</td>\n",
              "    </tr>\n",
              "    <tr>\n",
              "      <td>3</td>\n",
              "      <td>0.590745</td>\n",
              "      <td>0.819206</td>\n",
              "      <td>00:07</td>\n",
              "    </tr>\n",
              "    <tr>\n",
              "      <td>4</td>\n",
              "      <td>0.467776</td>\n",
              "      <td>0.819885</td>\n",
              "      <td>00:07</td>\n",
              "    </tr>\n",
              "  </tbody>\n",
              "</table>"
            ]
          },
          "metadata": {}
        }
      ]
    },
    {
      "cell_type": "code",
      "source": [
        "learn.model"
      ],
      "metadata": {
        "execution": {
          "iopub.status.busy": "2022-06-27T22:39:38.406625Z",
          "iopub.execute_input": "2022-06-27T22:39:38.407081Z",
          "iopub.status.idle": "2022-06-27T22:39:38.415177Z",
          "shell.execute_reply.started": "2022-06-27T22:39:38.407038Z",
          "shell.execute_reply": "2022-06-27T22:39:38.414098Z"
        },
        "trusted": true,
        "colab": {
          "base_uri": "https://localhost:8080/"
        },
        "id": "DQBygAP6RMjs",
        "outputId": "daf01d21-d8a6-4a79-c7bf-e959371bf5c7"
      },
      "execution_count": null,
      "outputs": [
        {
          "output_type": "execute_result",
          "data": {
            "text/plain": [
              "EmbeddingDotBias(\n",
              "  (u_weight): Embedding(944, 50)\n",
              "  (i_weight): Embedding(1665, 50)\n",
              "  (u_bias): Embedding(944, 1)\n",
              "  (i_bias): Embedding(1665, 1)\n",
              ")"
            ]
          },
          "metadata": {},
          "execution_count": 49
        }
      ]
    },
    {
      "cell_type": "code",
      "source": [
        "# use that to replicate previous analyses\n",
        "\n",
        "movie_bias = learn.model.i_bias.weight.squeeze()\n",
        "idxs = movie_bias.argsort(descending=True)[:5]\n",
        "[dls.classes['title'][i] for i in idxs]"
      ],
      "metadata": {
        "execution": {
          "iopub.status.busy": "2022-06-27T22:39:38.416693Z",
          "iopub.execute_input": "2022-06-27T22:39:38.417433Z",
          "iopub.status.idle": "2022-06-27T22:39:38.430146Z",
          "shell.execute_reply.started": "2022-06-27T22:39:38.417392Z",
          "shell.execute_reply": "2022-06-27T22:39:38.429375Z"
        },
        "trusted": true,
        "colab": {
          "base_uri": "https://localhost:8080/"
        },
        "id": "EH6cAkipRMjs",
        "outputId": "1514324f-ccd8-4e67-b277-dd34b4ad8e18"
      },
      "execution_count": null,
      "outputs": [
        {
          "output_type": "execute_result",
          "data": {
            "text/plain": [
              "['Total Eclipse (1995)',\n",
              " 'Show, The (1995)',\n",
              " 'Aliens (1986)',\n",
              " 'Suture (1993)',\n",
              " 'Mary Reilly (1996)']"
            ]
          },
          "metadata": {},
          "execution_count": 51
        }
      ]
    },
    {
      "cell_type": "code",
      "source": [
        "# looking at distance between coordinates \n",
        "# the distance between movie embedding vectors defines simialirty\n",
        "\n",
        "movie_factors = learn.model.i_weight.weight\n",
        "idx = dls.classes['title'].o2i['Silence of the Lambs, The (1991)']\n",
        "distances = nn.CosineSimilarity(dim=1)(movie_factors, movie_factors[idx][None])\n",
        "idx = distances.argsort(descending=True)[1]\n",
        "dls.classes['title'][idx]\n",
        "\n",
        "# drop dead fred"
      ],
      "metadata": {
        "execution": {
          "iopub.status.busy": "2022-06-27T22:39:38.432171Z",
          "iopub.execute_input": "2022-06-27T22:39:38.432908Z",
          "iopub.status.idle": "2022-06-27T22:39:38.449784Z",
          "shell.execute_reply.started": "2022-06-27T22:39:38.432864Z",
          "shell.execute_reply": "2022-06-27T22:39:38.4485Z"
        },
        "trusted": true,
        "colab": {
          "base_uri": "https://localhost:8080/",
          "height": 37
        },
        "id": "1ZhSlo9-RMjs",
        "outputId": "20adaa63-a56b-4f9b-dfc0-543951123e44"
      },
      "execution_count": null,
      "outputs": [
        {
          "output_type": "execute_result",
          "data": {
            "text/plain": [
              "'Drop Dead Fred (1991)'"
            ],
            "application/vnd.google.colaboratory.intrinsic+json": {
              "type": "string"
            }
          },
          "metadata": {},
          "execution_count": 53
        }
      ]
    },
    {
      "cell_type": "markdown",
      "source": [
        "- bootstrapping problem: what do you recommend to new users?\n",
        "- use tabular model based on user meta data \n",
        "- using questions to help interpret those results\n",
        "- be aware of overly enthusiastic users, anime dudes with heavy bias\n",
        "- feedback loops to prevent this"
      ],
      "metadata": {
        "id": "FzTwFX3snsLl"
      }
    },
    {
      "cell_type": "code",
      "source": [
        "# turn stuff into deeep learning model\n",
        "# take results of embedding lookup and concatenate together\n",
        "\n",
        "embs = get_emb_sz(dls)\n",
        "embs"
      ],
      "metadata": {
        "execution": {
          "iopub.status.busy": "2022-06-27T22:39:38.451747Z",
          "iopub.execute_input": "2022-06-27T22:39:38.452381Z",
          "iopub.status.idle": "2022-06-27T22:39:38.45966Z",
          "shell.execute_reply.started": "2022-06-27T22:39:38.45234Z",
          "shell.execute_reply": "2022-06-27T22:39:38.458826Z"
        },
        "trusted": true,
        "colab": {
          "base_uri": "https://localhost:8080/"
        },
        "id": "MSkCWR6kRMjt",
        "outputId": "82e6c2f7-6765-46ea-f245-0087f1d95071"
      },
      "execution_count": null,
      "outputs": [
        {
          "output_type": "execute_result",
          "data": {
            "text/plain": [
              "[(944, 74), (1665, 102)]"
            ]
          },
          "metadata": {},
          "execution_count": 54
        }
      ]
    },
    {
      "cell_type": "code",
      "source": [
        "class CollabNN(Module):\n",
        "    def __init__(self, user_sz, item_sz, y_range=(0,5.5), n_act=100):\n",
        "        self.user_factors = Embedding(*user_sz)\n",
        "        self.item_factors = Embedding(*item_sz)\n",
        "        self.layers = nn.Sequential(\n",
        "            nn.Linear(user_sz[1]+item_sz[1], n_act),\n",
        "            nn.ReLU(),\n",
        "            nn.Linear(n_act, 1))\n",
        "        self.y_range = y_range\n",
        "        \n",
        "    def forward(self, x):\n",
        "        embs = self.user_factors(x[:,0]),self.item_factors(x[:,1])\n",
        "        x = self.layers(torch.cat(embs, dim=1))\n",
        "        return sigmoid_range(x, *self.y_range)"
      ],
      "metadata": {
        "execution": {
          "iopub.status.busy": "2022-06-27T22:39:38.461062Z",
          "iopub.execute_input": "2022-06-27T22:39:38.461876Z",
          "iopub.status.idle": "2022-06-27T22:39:38.47184Z",
          "shell.execute_reply.started": "2022-06-27T22:39:38.461834Z",
          "shell.execute_reply": "2022-06-27T22:39:38.470932Z"
        },
        "trusted": true,
        "id": "a6RP75PrRMjt"
      },
      "execution_count": null,
      "outputs": []
    },
    {
      "cell_type": "code",
      "source": [
        "# use that to create a model\n",
        "# creates embedding layers using embs sizes\n",
        "\n",
        "model = CollabNN(*embs)"
      ],
      "metadata": {
        "execution": {
          "iopub.status.busy": "2022-06-27T22:39:38.473393Z",
          "iopub.execute_input": "2022-06-27T22:39:38.474109Z",
          "iopub.status.idle": "2022-06-27T22:39:38.489697Z",
          "shell.execute_reply.started": "2022-06-27T22:39:38.474067Z",
          "shell.execute_reply": "2022-06-27T22:39:38.488734Z"
        },
        "trusted": true,
        "id": "X-IJLEJ3RMju"
      },
      "execution_count": null,
      "outputs": []
    },
    {
      "cell_type": "code",
      "source": [
        "learn = Learner(dls, model, loss_func=MSELossFlat())\n",
        "learn.fit_one_cycle(5, 5e-3, wd=0.01)"
      ],
      "metadata": {
        "execution": {
          "iopub.status.busy": "2022-06-27T22:39:38.49127Z",
          "iopub.execute_input": "2022-06-27T22:39:38.491842Z",
          "iopub.status.idle": "2022-06-27T22:40:39.973547Z",
          "shell.execute_reply.started": "2022-06-27T22:39:38.491803Z",
          "shell.execute_reply": "2022-06-27T22:40:39.972656Z"
        },
        "trusted": true,
        "colab": {
          "base_uri": "https://localhost:8080/",
          "height": 204
        },
        "id": "DWjhnbZ4RMju",
        "outputId": "630e9e82-2bfa-4fc0-b092-402aa4dc6b32"
      },
      "execution_count": null,
      "outputs": [
        {
          "output_type": "display_data",
          "data": {
            "text/plain": [
              "<IPython.core.display.HTML object>"
            ],
            "text/html": [
              "\n",
              "<style>\n",
              "    /* Turns off some styling */\n",
              "    progress {\n",
              "        /* gets rid of default border in Firefox and Opera. */\n",
              "        border: none;\n",
              "        /* Needs to be in here for Safari polyfill so background images work as expected. */\n",
              "        background-size: auto;\n",
              "    }\n",
              "    progress:not([value]), progress:not([value])::-webkit-progress-bar {\n",
              "        background: repeating-linear-gradient(45deg, #7e7e7e, #7e7e7e 10px, #5c5c5c 10px, #5c5c5c 20px);\n",
              "    }\n",
              "    .progress-bar-interrupted, .progress-bar-interrupted::-webkit-progress-bar {\n",
              "        background: #F44336;\n",
              "    }\n",
              "</style>\n"
            ]
          },
          "metadata": {}
        },
        {
          "output_type": "display_data",
          "data": {
            "text/plain": [
              "<IPython.core.display.HTML object>"
            ],
            "text/html": [
              "<table border=\"1\" class=\"dataframe\">\n",
              "  <thead>\n",
              "    <tr style=\"text-align: left;\">\n",
              "      <th>epoch</th>\n",
              "      <th>train_loss</th>\n",
              "      <th>valid_loss</th>\n",
              "      <th>time</th>\n",
              "    </tr>\n",
              "  </thead>\n",
              "  <tbody>\n",
              "    <tr>\n",
              "      <td>0</td>\n",
              "      <td>0.944738</td>\n",
              "      <td>0.950076</td>\n",
              "      <td>00:10</td>\n",
              "    </tr>\n",
              "    <tr>\n",
              "      <td>1</td>\n",
              "      <td>0.915485</td>\n",
              "      <td>0.902034</td>\n",
              "      <td>00:10</td>\n",
              "    </tr>\n",
              "    <tr>\n",
              "      <td>2</td>\n",
              "      <td>0.851923</td>\n",
              "      <td>0.883990</td>\n",
              "      <td>00:10</td>\n",
              "    </tr>\n",
              "    <tr>\n",
              "      <td>3</td>\n",
              "      <td>0.816610</td>\n",
              "      <td>0.875533</td>\n",
              "      <td>00:09</td>\n",
              "    </tr>\n",
              "    <tr>\n",
              "      <td>4</td>\n",
              "      <td>0.766835</td>\n",
              "      <td>0.879596</td>\n",
              "      <td>00:11</td>\n",
              "    </tr>\n",
              "  </tbody>\n",
              "</table>"
            ]
          },
          "metadata": {}
        }
      ]
    },
    {
      "cell_type": "code",
      "source": [
        "# if you pass use_nn=True in your call to collab_learner (including calling get_emb_sz for you), and it lets you easily create more layers\n",
        "# two hidden layers 100 and 50\n",
        "\n",
        "learn = collab_learner(dls, use_nn=True, y_range=(0, 5.5), layers=[100,50])\n",
        "learn.fit_one_cycle(5, 5e-3, wd=0.1)"
      ],
      "metadata": {
        "execution": {
          "iopub.status.busy": "2022-06-27T22:40:39.974805Z",
          "iopub.execute_input": "2022-06-27T22:40:39.975559Z",
          "iopub.status.idle": "2022-06-27T22:41:49.551372Z",
          "shell.execute_reply.started": "2022-06-27T22:40:39.975524Z",
          "shell.execute_reply": "2022-06-27T22:41:49.550527Z"
        },
        "trusted": true,
        "colab": {
          "base_uri": "https://localhost:8080/",
          "height": 204
        },
        "id": "HKWisPyiRMju",
        "outputId": "22a1ef4b-72c1-473c-89fc-4e5bcef8579d"
      },
      "execution_count": null,
      "outputs": [
        {
          "output_type": "display_data",
          "data": {
            "text/plain": [
              "<IPython.core.display.HTML object>"
            ],
            "text/html": [
              "\n",
              "<style>\n",
              "    /* Turns off some styling */\n",
              "    progress {\n",
              "        /* gets rid of default border in Firefox and Opera. */\n",
              "        border: none;\n",
              "        /* Needs to be in here for Safari polyfill so background images work as expected. */\n",
              "        background-size: auto;\n",
              "    }\n",
              "    progress:not([value]), progress:not([value])::-webkit-progress-bar {\n",
              "        background: repeating-linear-gradient(45deg, #7e7e7e, #7e7e7e 10px, #5c5c5c 10px, #5c5c5c 20px);\n",
              "    }\n",
              "    .progress-bar-interrupted, .progress-bar-interrupted::-webkit-progress-bar {\n",
              "        background: #F44336;\n",
              "    }\n",
              "</style>\n"
            ]
          },
          "metadata": {}
        },
        {
          "output_type": "display_data",
          "data": {
            "text/plain": [
              "<IPython.core.display.HTML object>"
            ],
            "text/html": [
              "<table border=\"1\" class=\"dataframe\">\n",
              "  <thead>\n",
              "    <tr style=\"text-align: left;\">\n",
              "      <th>epoch</th>\n",
              "      <th>train_loss</th>\n",
              "      <th>valid_loss</th>\n",
              "      <th>time</th>\n",
              "    </tr>\n",
              "  </thead>\n",
              "  <tbody>\n",
              "    <tr>\n",
              "      <td>0</td>\n",
              "      <td>1.015211</td>\n",
              "      <td>1.005399</td>\n",
              "      <td>00:12</td>\n",
              "    </tr>\n",
              "    <tr>\n",
              "      <td>1</td>\n",
              "      <td>0.880994</td>\n",
              "      <td>0.930209</td>\n",
              "      <td>00:15</td>\n",
              "    </tr>\n",
              "    <tr>\n",
              "      <td>2</td>\n",
              "      <td>0.887551</td>\n",
              "      <td>0.899196</td>\n",
              "      <td>00:14</td>\n",
              "    </tr>\n",
              "    <tr>\n",
              "      <td>3</td>\n",
              "      <td>0.824220</td>\n",
              "      <td>0.872969</td>\n",
              "      <td>00:13</td>\n",
              "    </tr>\n",
              "    <tr>\n",
              "      <td>4</td>\n",
              "      <td>0.798360</td>\n",
              "      <td>0.870505</td>\n",
              "      <td>00:12</td>\n",
              "    </tr>\n",
              "  </tbody>\n",
              "</table>"
            ]
          },
          "metadata": {}
        }
      ]
    },
    {
      "cell_type": "markdown",
      "source": [
        "`learn.model` is an object of type `EmbeddingNN`. Let's take a look at fastai's code for this class:"
      ],
      "metadata": {
        "id": "o_uovOFGRMju"
      }
    },
    {
      "cell_type": "code",
      "source": [
        "# inherits from tabular model, gets functions from it\n",
        "# innit calls same models passing n_... and stuff and passes along whatever arguments are received\n",
        "\n",
        "@delegates(TabularModel)\n",
        "class EmbeddingNN(TabularModel):\n",
        "    def __init__(self, emb_szs, layers, **kwargs):\n",
        "        super().__init__(emb_szs, layers=layers, n_cont=0, out_sz=1, **kwargs)"
      ],
      "metadata": {
        "execution": {
          "iopub.status.busy": "2022-06-27T22:41:49.552807Z",
          "iopub.execute_input": "2022-06-27T22:41:49.553509Z",
          "iopub.status.idle": "2022-06-27T22:41:49.560713Z",
          "shell.execute_reply.started": "2022-06-27T22:41:49.553444Z",
          "shell.execute_reply": "2022-06-27T22:41:49.55957Z"
        },
        "trusted": true,
        "id": "jp_fZu6IRMju"
      },
      "execution_count": null,
      "outputs": []
    },
    {
      "cell_type": "markdown",
      "source": [
        "- embeddingNN has worse results than the previous dot product stuff??\n",
        "- let's us incorporate other user, movie, etc. info that might be relevant to recommendation"
      ],
      "metadata": {
        "id": "1oW-hj0PpXLS"
      }
    },
    {
      "cell_type": "markdown",
      "source": [
        "# Theoretical Part\n",
        "\n",
        "1. What problem does collaborative filtering solve?\n",
        "\n",
        "Collaborative Filtering is used for recommendatino systems (like content or items) based on preferences of users. It makes recommendations and predictions according to the behavior of user groups.\n",
        "\n",
        "2. How does it solve it?\n",
        "\n",
        "It does so by analyzing the collective wisdom of user groups as well as analyzing the past data of user preferences and identifies patterns and similarities. These are used in combination with preferences of similar users, to make recommendations and predictions for users. \n",
        "\n",
        "3. What is a dot product? Calculate a dot product manually using pure Python with lists.\n",
        "\n",
        "Dot products are the result of mulitplying two vectors and summing their result. It forms the basis of matrix multiplication and is an important part of machine learning.\n",
        "\n",
        "Example code will be in the section after this.\n",
        "\n",
        "4. What does pandas.DataFrame.merge do?\n",
        "\n",
        "This is a function that combines multiple dataframes bassed on a column or index. The type of join can be specified, like in SQL. It allows for the combination of datasets from different sources or tables into one dataframe for better analysis and data manipulation.\n",
        "\n",
        "5. What does argsort do in PyTorch?\n",
        "\n",
        "This function can be used to obtain a new tensor that contains the indices of the original tensor but sorted. It can be used for ranking or sorting tasks.\n",
        "\n",
        "6. What is the \"bootstrapping problem\" in collaborative filtering?\n",
        "\n",
        "The bootstrapping problem refers to the challenge of providing recommendations to new users due to missing information and preferences. This can be solved or avoided by recommending generally popular content or asking a few questions prior to making recommendations for basic assessments.\n",
        "\n",
        "7. What is the use of bias in a dot product model?\n",
        "\n",
        "Bias are added constants used in a dot product because it adds increased adjustability. This improves the model by allowing it to make more accurate recommendations based on user data.\n",
        "\n",
        "\n"
      ],
      "metadata": {
        "id": "7ygabZp6tyEX"
      }
    },
    {
      "cell_type": "code",
      "source": [
        "# 3: basic dot example\n",
        "vector1 = [6, 0, 6]\n",
        "vector2 = [7, 9, 4]\n",
        "\n",
        "dot_result = sum(x * y for x, y in zip(vector1, vector2))\n",
        "\n",
        "dot_result\n",
        "# result = 66"
      ],
      "metadata": {
        "colab": {
          "base_uri": "https://localhost:8080/"
        },
        "id": "QC-IpzIRt3Fe",
        "outputId": "6f2d3818-74bc-4077-fb07-8798f989fd53"
      },
      "execution_count": null,
      "outputs": [
        {
          "output_type": "execute_result",
          "data": {
            "text/plain": [
              "66"
            ]
          },
          "metadata": {},
          "execution_count": 61
        }
      ]
    }
  ]
}